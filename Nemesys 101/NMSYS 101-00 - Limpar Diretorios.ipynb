{
 "cells": [
  {
   "cell_type": "code",
   "execution_count": 1,
   "id": "e5dba650-9663-4c05-924e-1e58371a8728",
   "metadata": {},
   "outputs": [],
   "source": [
    "%%bash\n",
    "rm -Rf lakehouse/*\n",
    "mkdir lakehouse/landing"
   ]
  },
  {
   "cell_type": "code",
   "execution_count": null,
   "id": "3b16aa79-76c3-476f-9091-0927b80f3ffe",
   "metadata": {},
   "outputs": [],
   "source": []
  },
  {
   "cell_type": "code",
   "execution_count": null,
   "id": "84cdea07-7711-4aa3-8f17-3b95b79f74ef",
   "metadata": {},
   "outputs": [],
   "source": []
  }
 ],
 "metadata": {
  "kernelspec": {
   "display_name": "Python 3 (ipykernel)",
   "language": "python",
   "name": "python3"
  },
  "language_info": {
   "codemirror_mode": {
    "name": "ipython",
    "version": 3
   },
   "file_extension": ".py",
   "mimetype": "text/x-python",
   "name": "python",
   "nbconvert_exporter": "python",
   "pygments_lexer": "ipython3",
   "version": "3.11.5"
  }
 },
 "nbformat": 4,
 "nbformat_minor": 5
}

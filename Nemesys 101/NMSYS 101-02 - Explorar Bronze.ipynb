{
 "cells": [
  {
   "cell_type": "markdown",
   "id": "f72d5944-5c7f-4361-8dd9-64f8160bb339",
   "metadata": {},
   "source": [
    "# Exploração dos dados da tabela\n",
    "Neste processo vamos explorar um pouco os dados baixados para ver o que é necessário fazer de transformações para gerar as próxima\n",
    "camada. \n",
    "\n",
    "Iniciamos importandos as bibliotecas que utilizaremos e configurando o ```spark```."
   ]
  },
  {
   "cell_type": "code",
   "execution_count": 1,
   "id": "f3a7a6d2-cdbe-4941-baae-03107b43c9c7",
   "metadata": {},
   "outputs": [],
   "source": [
    "import pyspark.sql.functions\n",
    "import seaborn as sns\n",
    "import matplotlib.pyplot as plt\n",
    "import pandas as pd\n",
    "\n",
    "from pyspark.sql import SparkSession\n",
    "from datetime import datetime\n",
    "from environment import *"
   ]
  },
  {
   "cell_type": "code",
   "execution_count": 2,
   "id": "d2ae0778-f24d-4b9b-b894-e62985b99e77",
   "metadata": {},
   "outputs": [],
   "source": [
    "spark = (SparkSession.builder\n",
    "         .appName(f\"Teste Spark\")\n",
    "         .config(\"spark.sql.extensions\", \"io.delta.sql.DeltaSparkSessionExtension\")\n",
    "         .config(\"spark.sql.catalog.spark_catalog\", \"org.apache.spark.sql.delta.catalog.DeltaCatalog\")         \n",
    "         .getOrCreate()\n",
    ")"
   ]
  },
  {
   "cell_type": "markdown",
   "id": "4a6900a7-a72e-4efb-8380-3c33257e6a16",
   "metadata": {},
   "source": [
    "## Carregar a Delta Table no Spark\n",
    "Primeiramente carregamos os dados da Delta Table para o Spark e registramos para usar como tabela em comandos SQL."
   ]
  },
  {
   "cell_type": "code",
   "execution_count": 3,
   "id": "597ce281-f69a-4144-92fc-0febd97ed0af",
   "metadata": {},
   "outputs": [
    {
     "name": "stdout",
     "output_type": "stream",
     "text": [
      "CPU times: user 1.89 ms, sys: 849 µs, total: 2.74 ms\n",
      "Wall time: 4.72 s\n"
     ]
    }
   ],
   "source": [
    "%%time\n",
    "df = (spark\n",
    "      .read\n",
    "      .format(\"delta\")\n",
    "      .load(f'lakehouse/bronze/vendas')\n",
    ")"
   ]
  },
  {
   "cell_type": "markdown",
   "id": "d218366e-b21f-4ade-ac4a-4b2a90c82a32",
   "metadata": {},
   "source": [
    "Registrando como uma tabela de Banco de dados"
   ]
  },
  {
   "cell_type": "code",
   "execution_count": 4,
   "id": "c9e8274b-92c3-41c2-9613-0f5f5f383fe3",
   "metadata": {},
   "outputs": [],
   "source": [
    "df.createOrReplaceTempView(\"vendas\")"
   ]
  },
  {
   "cell_type": "markdown",
   "id": "e88c6e35-806e-4dc6-8e4d-111b3b35634a",
   "metadata": {},
   "source": [
    "## Consultando a tabela com o uso de SQL"
   ]
  },
  {
   "cell_type": "code",
   "execution_count": 5,
   "id": "8a8959ca-4af2-4956-8849-eaf2eaa6b358",
   "metadata": {},
   "outputs": [
    {
     "name": "stderr",
     "output_type": "stream",
     "text": [
      "/usr/local/spark/python/pyspark/sql/pandas/conversion.py:251: FutureWarning: Passing unit-less datetime64 dtype to .astype is deprecated and will raise in a future version. Pass 'datetime64[ns]' instead\n",
      "  series = series.astype(t, copy=False)\n"
     ]
    },
    {
     "data": {
      "text/html": [
       "<div>\n",
       "<style scoped>\n",
       "    .dataframe tbody tr th:only-of-type {\n",
       "        vertical-align: middle;\n",
       "    }\n",
       "\n",
       "    .dataframe tbody tr th {\n",
       "        vertical-align: top;\n",
       "    }\n",
       "\n",
       "    .dataframe thead th {\n",
       "        text-align: right;\n",
       "    }\n",
       "</style>\n",
       "<table border=\"1\" class=\"dataframe\">\n",
       "  <thead>\n",
       "    <tr style=\"text-align: right;\">\n",
       "      <th></th>\n",
       "      <th>InvoiceNo</th>\n",
       "      <th>StockCode</th>\n",
       "      <th>Description</th>\n",
       "      <th>Quantity</th>\n",
       "      <th>InvoiceDate</th>\n",
       "      <th>UnitPrice</th>\n",
       "      <th>CustomerID</th>\n",
       "      <th>Country</th>\n",
       "    </tr>\n",
       "  </thead>\n",
       "  <tbody>\n",
       "    <tr>\n",
       "      <th>0</th>\n",
       "      <td>536365</td>\n",
       "      <td>85123A</td>\n",
       "      <td>WHITE HANGING HEART T-LIGHT HOLDER</td>\n",
       "      <td>6</td>\n",
       "      <td>2010-12-01 08:26:00</td>\n",
       "      <td>2.55</td>\n",
       "      <td>17850.0</td>\n",
       "      <td>United Kingdom</td>\n",
       "    </tr>\n",
       "    <tr>\n",
       "      <th>1</th>\n",
       "      <td>536365</td>\n",
       "      <td>71053</td>\n",
       "      <td>WHITE METAL LANTERN</td>\n",
       "      <td>6</td>\n",
       "      <td>2010-12-01 08:26:00</td>\n",
       "      <td>3.39</td>\n",
       "      <td>17850.0</td>\n",
       "      <td>United Kingdom</td>\n",
       "    </tr>\n",
       "    <tr>\n",
       "      <th>2</th>\n",
       "      <td>536365</td>\n",
       "      <td>84406B</td>\n",
       "      <td>CREAM CUPID HEARTS COAT HANGER</td>\n",
       "      <td>8</td>\n",
       "      <td>2010-12-01 08:26:00</td>\n",
       "      <td>2.75</td>\n",
       "      <td>17850.0</td>\n",
       "      <td>United Kingdom</td>\n",
       "    </tr>\n",
       "    <tr>\n",
       "      <th>3</th>\n",
       "      <td>536365</td>\n",
       "      <td>84029G</td>\n",
       "      <td>KNITTED UNION FLAG HOT WATER BOTTLE</td>\n",
       "      <td>6</td>\n",
       "      <td>2010-12-01 08:26:00</td>\n",
       "      <td>3.39</td>\n",
       "      <td>17850.0</td>\n",
       "      <td>United Kingdom</td>\n",
       "    </tr>\n",
       "    <tr>\n",
       "      <th>4</th>\n",
       "      <td>536365</td>\n",
       "      <td>84029E</td>\n",
       "      <td>RED WOOLLY HOTTIE WHITE HEART.</td>\n",
       "      <td>6</td>\n",
       "      <td>2010-12-01 08:26:00</td>\n",
       "      <td>3.39</td>\n",
       "      <td>17850.0</td>\n",
       "      <td>United Kingdom</td>\n",
       "    </tr>\n",
       "    <tr>\n",
       "      <th>5</th>\n",
       "      <td>536365</td>\n",
       "      <td>22752</td>\n",
       "      <td>SET 7 BABUSHKA NESTING BOXES</td>\n",
       "      <td>2</td>\n",
       "      <td>2010-12-01 08:26:00</td>\n",
       "      <td>7.65</td>\n",
       "      <td>17850.0</td>\n",
       "      <td>United Kingdom</td>\n",
       "    </tr>\n",
       "    <tr>\n",
       "      <th>6</th>\n",
       "      <td>536365</td>\n",
       "      <td>21730</td>\n",
       "      <td>GLASS STAR FROSTED T-LIGHT HOLDER</td>\n",
       "      <td>6</td>\n",
       "      <td>2010-12-01 08:26:00</td>\n",
       "      <td>4.25</td>\n",
       "      <td>17850.0</td>\n",
       "      <td>United Kingdom</td>\n",
       "    </tr>\n",
       "    <tr>\n",
       "      <th>7</th>\n",
       "      <td>536366</td>\n",
       "      <td>22633</td>\n",
       "      <td>HAND WARMER UNION JACK</td>\n",
       "      <td>6</td>\n",
       "      <td>2010-12-01 08:28:00</td>\n",
       "      <td>1.85</td>\n",
       "      <td>17850.0</td>\n",
       "      <td>United Kingdom</td>\n",
       "    </tr>\n",
       "    <tr>\n",
       "      <th>8</th>\n",
       "      <td>536366</td>\n",
       "      <td>22632</td>\n",
       "      <td>HAND WARMER RED POLKA DOT</td>\n",
       "      <td>6</td>\n",
       "      <td>2010-12-01 08:28:00</td>\n",
       "      <td>1.85</td>\n",
       "      <td>17850.0</td>\n",
       "      <td>United Kingdom</td>\n",
       "    </tr>\n",
       "    <tr>\n",
       "      <th>9</th>\n",
       "      <td>536367</td>\n",
       "      <td>84879</td>\n",
       "      <td>ASSORTED COLOUR BIRD ORNAMENT</td>\n",
       "      <td>32</td>\n",
       "      <td>2010-12-01 08:34:00</td>\n",
       "      <td>1.69</td>\n",
       "      <td>13047.0</td>\n",
       "      <td>United Kingdom</td>\n",
       "    </tr>\n",
       "  </tbody>\n",
       "</table>\n",
       "</div>"
      ],
      "text/plain": [
       "  InvoiceNo StockCode                          Description  Quantity  \\\n",
       "0    536365    85123A   WHITE HANGING HEART T-LIGHT HOLDER         6   \n",
       "1    536365     71053                  WHITE METAL LANTERN         6   \n",
       "2    536365    84406B       CREAM CUPID HEARTS COAT HANGER         8   \n",
       "3    536365    84029G  KNITTED UNION FLAG HOT WATER BOTTLE         6   \n",
       "4    536365    84029E       RED WOOLLY HOTTIE WHITE HEART.         6   \n",
       "5    536365     22752         SET 7 BABUSHKA NESTING BOXES         2   \n",
       "6    536365     21730    GLASS STAR FROSTED T-LIGHT HOLDER         6   \n",
       "7    536366     22633               HAND WARMER UNION JACK         6   \n",
       "8    536366     22632            HAND WARMER RED POLKA DOT         6   \n",
       "9    536367     84879        ASSORTED COLOUR BIRD ORNAMENT        32   \n",
       "\n",
       "          InvoiceDate  UnitPrice  CustomerID         Country  \n",
       "0 2010-12-01 08:26:00       2.55     17850.0  United Kingdom  \n",
       "1 2010-12-01 08:26:00       3.39     17850.0  United Kingdom  \n",
       "2 2010-12-01 08:26:00       2.75     17850.0  United Kingdom  \n",
       "3 2010-12-01 08:26:00       3.39     17850.0  United Kingdom  \n",
       "4 2010-12-01 08:26:00       3.39     17850.0  United Kingdom  \n",
       "5 2010-12-01 08:26:00       7.65     17850.0  United Kingdom  \n",
       "6 2010-12-01 08:26:00       4.25     17850.0  United Kingdom  \n",
       "7 2010-12-01 08:28:00       1.85     17850.0  United Kingdom  \n",
       "8 2010-12-01 08:28:00       1.85     17850.0  United Kingdom  \n",
       "9 2010-12-01 08:34:00       1.69     13047.0  United Kingdom  "
      ]
     },
     "execution_count": 5,
     "metadata": {},
     "output_type": "execute_result"
    }
   ],
   "source": [
    "%%sql_display\n",
    "select * \n",
    "from vendas \n",
    "order by InvoiceDate\n",
    "limit 10;"
   ]
  },
  {
   "cell_type": "markdown",
   "id": "b1765f9f-43a1-427c-b654-b115b564720e",
   "metadata": {},
   "source": [
    "## Identificar Invoices canceladas\n",
    "\n",
    "Segundo a regra de negócio exposta no notebook NMSYS 101-01, o campo InvoiceNo Pode iniciar com a letra C.\n",
    "Nestes casos isto indica que esta transação foi cancelada.\n",
    "\n",
    "Vamos escrever uma query que identifica estes casos para verificarmos quantas operações canceladas existem na base de dados."
   ]
  },
  {
   "cell_type": "code",
   "execution_count": 6,
   "id": "f0f013a3-b710-4d33-a9fb-62021a351781",
   "metadata": {},
   "outputs": [
    {
     "name": "stdout",
     "output_type": "stream",
     "text": [
      "CPU times: user 7.5 ms, sys: 0 ns, total: 7.5 ms\n",
      "Wall time: 1.1 s\n"
     ]
    }
   ],
   "source": [
    "%%time\n",
    "df_tipo = spark.sql(\"\"\"\n",
    "select\n",
    "    \"Vendas\" as tipo,\n",
    "    sum(case when left(InvoiceNo, 1) = 'C' then 0 else 1 end) as Qtd\n",
    "from vendas\n",
    "\n",
    "union\n",
    "\n",
    "select\n",
    "    \"Cancelamento\" as tipo,\n",
    "    sum(case when left(InvoiceNo, 1) = 'C' then 1 else 0 end) as Qtd\n",
    "from vendas\n",
    "\"\"\").toPandas()"
   ]
  },
  {
   "cell_type": "code",
   "execution_count": 7,
   "id": "24299c9d-1bb0-459f-9256-9171f3bbe8be",
   "metadata": {},
   "outputs": [
    {
     "data": {
      "image/png": "[encoded data removed]",
      "text/plain": [
       "<Figure size 600x600 with 1 Axes>"
      ]
     },
     "metadata": {},
     "output_type": "display_data"
    }
   ],
   "source": [
    "#define Seaborn color palette to use\n",
    "colors = sns.color_palette('pastel')[0:5]\n",
    "plt.figure(figsize=(6,6))\n",
    "\n",
    "#create pie chart\n",
    "plt.pie(df_tipo[\"Qtd\"], labels = df_tipo[\"tipo\"], colors = colors, autopct='%.0f%%')\n",
    "plt.title('Tipos de Invoice')\n",
    "plt.show()"
   ]
  },
  {
   "cell_type": "markdown",
   "id": "575d8b93-5643-4807-90a4-33f7218a990b",
   "metadata": {},
   "source": [
    "__Conclusão__: No processo acima identificamos como distinguir uma invoice de venda de uma de cancelamento, além de determinar a quantidade de invoices em ambos os casos."
   ]
  },
  {
   "cell_type": "code",
   "execution_count": null,
   "id": "d1087384-abbb-4eaa-a154-33b41afce290",
   "metadata": {},
   "outputs": [],
   "source": []
  }
 ],
 "metadata": {
  "kernelspec": {
   "display_name": "Python 3 (ipykernel)",
   "language": "python",
   "name": "python3"
  },
  "language_info": {
   "codemirror_mode": {
    "name": "ipython",
    "version": 3
   },
   "file_extension": ".py",
   "mimetype": "text/x-python",
   "name": "python",
   "nbconvert_exporter": "python",
   "pygments_lexer": "ipython3",
   "version": "3.11.5"
  }
 },
 "nbformat": 4,
 "nbformat_minor": 5
}

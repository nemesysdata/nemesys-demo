{
 "cells": [
  {
   "attachments": {},
   "cell_type": "markdown",
   "id": "6f0b4be7-9ca3-4eea-8ff6-09a7d0f54014",
   "metadata": {},
   "source": [
    "# Nemesys 101 - Tutorial básico do Nemesys\n",
    "\n",
    "Neste tutorial vamos utilizar o Nemesys Data Platform para baixar um arquivo de vendas em formato xlsx, utilizar o spark para criar uma arquitetura [Medallion](https://www.databricks.com/glossary/medallion-architecture) (com camadas bronze, silver e gold).\n",
    "\n",
    "<img src='https://cms.databricks.com/sites/default/files/inline-images/building-data-pipelines-with-delta-lake-120823.png' width='800px' height='600px'>\n",
    "\n",
    "## Obtendo os dados\n",
    "Os dados serão baixados do site da [The UCI Machine Learning Repository](https://archive.ics.uci.edu/dataset/352/online+retail) utiliando da ferramenta ```curl```e depois descompactado com o uso do ```unzip```."
   ]
  },
  {
   "cell_type": "code",
   "execution_count": 1,
   "id": "a0e21197-5a57-4237-8bfa-675206a554f1",
   "metadata": {},
   "outputs": [],
   "source": [
    "%%bash\n",
    "rm -Rf lakehouse/bronze/vendas"
   ]
  },
  {
   "cell_type": "code",
   "execution_count": 2,
   "id": "c1218285-9574-47d2-9c2d-94f398893486",
   "metadata": {},
   "outputs": [
    {
     "name": "stderr",
     "output_type": "stream",
     "text": [
      "  % Total    % Received % Xferd  Average Speed   Time    Time     Time  Current\n",
      "                                 Dload  Upload   Total   Spent    Left  Speed\n",
      "100 22.6M    0 22.6M    0     0  7933k      0 --:--:--  0:00:02 --:--:-- 7931k\n"
     ]
    },
    {
     "name": "stdout",
     "output_type": "stream",
     "text": [
      "Archive:  lakehouse/landing/online_retail.zip\n",
      " extracting: lakehouse/landing/Online Retail.xlsx  \n"
     ]
    }
   ],
   "source": [
    "%%bash\n",
    "\n",
    "if [ -f lakehouse/landing/online_retail.zip ]; then\n",
    "    rm lakehouse/landing/online_retail.zip\n",
    "fi\n",
    "\n",
    "if [ -f lakehouse/landing/Online\\ Retail.xlsx ]; then\n",
    "    rm lakehouse/landing/Online\\ Retail.xlsx\n",
    "fi\n",
    "\n",
    "curl https://archive.ics.uci.edu/static/public/352/online+retail.zip -o lakehouse/landing/online_retail.zip\n",
    "unzip lakehouse/landing/online_retail.zip -d lakehouse/landing"
   ]
  },
  {
   "cell_type": "markdown",
   "id": "91135d37-e359-42f5-9307-3919b288e9eb",
   "metadata": {},
   "source": [
    "## Criar e configurar a instancia do Spark"
   ]
  },
  {
   "cell_type": "code",
   "execution_count": 3,
   "id": "b1902766-29d5-4386-9d4a-9877d9e01a1e",
   "metadata": {},
   "outputs": [],
   "source": [
    "import pyspark.sql.functions\n",
    "from pyspark.sql import SparkSession\n",
    "from delta import *\n",
    "\n",
    "builder = (SparkSession.builder\n",
    "         .appName(f\"Nemesys-101\")\n",
    "         .config(\"spark.sql.extensions\", \"io.delta.sql.DeltaSparkSessionExtension\")\n",
    "         .config(\"spark.sql.catalog.spark_catalog\", \"org.apache.spark.sql.delta.catalog.DeltaCatalog\")\n",
    "         .config(\"spark.sql.execution.arrow.pyspark.enabled\", \"true\")\n",
    ")\n",
    "spark = configure_spark_with_delta_pip(builder).getOrCreate()"
   ]
  },
  {
   "cell_type": "markdown",
   "id": "2aa6ff7e-88a6-4185-a68e-5ee77ac4695a",
   "metadata": {},
   "source": [
    "## Criando a Camada Bronze\n",
    "Primeiramente a planilha será carregada em um Data Frame Pandas."
   ]
  },
  {
   "cell_type": "code",
   "execution_count": 4,
   "id": "29f74357-3d96-4666-bc8e-ba0efdb45bf1",
   "metadata": {},
   "outputs": [
    {
     "name": "stdout",
     "output_type": "stream",
     "text": [
      "CPU times: user 6.85 s, sys: 606 ms, total: 7.46 s\n",
      "Wall time: 7.29 s\n"
     ]
    }
   ],
   "source": [
    "%%time\n",
    "import polars as pd\n",
    "pdf = pd.read_excel(\"lakehouse/landing/Online Retail.xlsx\", sheet_name='Online Retail', engine='calamine', schema_overrides={\"InvoiceNo\": pd.String})"
   ]
  },
  {
   "cell_type": "markdown",
   "id": "19df0b97-a3d2-41fe-b671-2dfe4910a6b2",
   "metadata": {},
   "source": [
    "Após a carga, o ```Dataframe Pandas``` será convertido para ```PySpark```, mostrando ao final do processo o schema do ```dataframe``` e a quantidade de linhas processadas."
   ]
  },
  {
   "cell_type": "code",
   "execution_count": 5,
   "id": "fdf23d1b-ec12-4dc1-b142-cbf4649afb96",
   "metadata": {},
   "outputs": [
    {
     "name": "stdout",
     "output_type": "stream",
     "text": [
      "root\n",
      " |-- InvoiceNo: string (nullable = true)\n",
      " |-- StockCode: string (nullable = true)\n",
      " |-- Description: string (nullable = true)\n",
      " |-- Quantity: long (nullable = true)\n",
      " |-- InvoiceDate: timestamp (nullable = true)\n",
      " |-- UnitPrice: double (nullable = true)\n",
      " |-- CustomerID: double (nullable = true)\n",
      " |-- Country: string (nullable = true)\n",
      "\n",
      "CPU times: user 832 ms, sys: 267 ms, total: 1.1 s\n",
      "Wall time: 4.64 s\n"
     ]
    }
   ],
   "source": [
    "%%time\n",
    "df = spark.createDataFrame(pdf.to_pandas())\n",
    "df.printSchema()"
   ]
  },
  {
   "cell_type": "markdown",
   "id": "220a110e-e957-4959-8d43-602c1c8feb6e",
   "metadata": {},
   "source": [
    "Where:\n",
    "- __InvoiceNo__: Invoice number. Nominal, a 6-digit integral number uniquely assigned to each transaction. _If this code starts with letter 'c', it indicates a cancellation_.\n",
    "- __StockCode__: Product (item) code. Nominal, a 5-digit integral number uniquely assigned to each distinct product.\n",
    "- __Description__: Product (item) name. Nominal.\n",
    "- __Quantity__: The quantities of each product (item) per transaction. Numeric.\t\n",
    "- __InvoiceDate__: Invoice Date and time. Numeric, the day and time when each transaction was generated.\n",
    "- __UnitPrice__: Unit price. Numeric, Product price per unit in sterling.\n",
    "- __CustomerID__: Customer number. Nominal, a 5-digit integral number uniquely assigned to each customer.\n",
    "- __Country__: Country name. Nominal, the name of the country where each customer resides. "
   ]
  },
  {
   "cell_type": "code",
   "execution_count": 6,
   "id": "aee55752-8320-4011-acf9-49626a0d7bd3",
   "metadata": {},
   "outputs": [
    {
     "name": "stdout",
     "output_type": "stream",
     "text": [
      "CPU times: user 1.93 ms, sys: 7.72 ms, total: 9.65 ms\n",
      "Wall time: 4.67 s\n"
     ]
    },
    {
     "data": {
      "text/plain": [
       "541909"
      ]
     },
     "execution_count": 6,
     "metadata": {},
     "output_type": "execute_result"
    }
   ],
   "source": [
    "%%time\n",
    "df.count()"
   ]
  },
  {
   "cell_type": "code",
   "execution_count": 7,
   "id": "37e5ce77-42a1-40f4-87d9-c40a9937af44",
   "metadata": {},
   "outputs": [
    {
     "name": "stdout",
     "output_type": "stream",
     "text": [
      "+---------+---------+--------------------+--------+-------------------+---------+----------+--------------+\n",
      "|InvoiceNo|StockCode|         Description|Quantity|        InvoiceDate|UnitPrice|CustomerID|       Country|\n",
      "+---------+---------+--------------------+--------+-------------------+---------+----------+--------------+\n",
      "|   536365|   85123A|WHITE HANGING HEA...|       6|2010-12-01 08:26:00|     2.55|   17850.0|United Kingdom|\n",
      "|   536365|    71053| WHITE METAL LANTERN|       6|2010-12-01 08:26:00|     3.39|   17850.0|United Kingdom|\n",
      "|   536365|   84406B|CREAM CUPID HEART...|       8|2010-12-01 08:26:00|     2.75|   17850.0|United Kingdom|\n",
      "|   536365|   84029G|KNITTED UNION FLA...|       6|2010-12-01 08:26:00|     3.39|   17850.0|United Kingdom|\n",
      "|   536365|   84029E|RED WOOLLY HOTTIE...|       6|2010-12-01 08:26:00|     3.39|   17850.0|United Kingdom|\n",
      "|   536365|    22752|SET 7 BABUSHKA NE...|       2|2010-12-01 08:26:00|     7.65|   17850.0|United Kingdom|\n",
      "|   536365|    21730|GLASS STAR FROSTE...|       6|2010-12-01 08:26:00|     4.25|   17850.0|United Kingdom|\n",
      "|   536366|    22633|HAND WARMER UNION...|       6|2010-12-01 08:28:00|     1.85|   17850.0|United Kingdom|\n",
      "|   536366|    22632|HAND WARMER RED P...|       6|2010-12-01 08:28:00|     1.85|   17850.0|United Kingdom|\n",
      "|   536367|    84879|ASSORTED COLOUR B...|      32|2010-12-01 08:34:00|     1.69|   13047.0|United Kingdom|\n",
      "|   536367|    22745|POPPY'S PLAYHOUSE...|       6|2010-12-01 08:34:00|      2.1|   13047.0|United Kingdom|\n",
      "|   536367|    22748|POPPY'S PLAYHOUSE...|       6|2010-12-01 08:34:00|      2.1|   13047.0|United Kingdom|\n",
      "|   536367|    22749|FELTCRAFT PRINCES...|       8|2010-12-01 08:34:00|     3.75|   13047.0|United Kingdom|\n",
      "|   536367|    22310|IVORY KNITTED MUG...|       6|2010-12-01 08:34:00|     1.65|   13047.0|United Kingdom|\n",
      "|   536367|    84969|BOX OF 6 ASSORTED...|       6|2010-12-01 08:34:00|     4.25|   13047.0|United Kingdom|\n",
      "|   536367|    22623|BOX OF VINTAGE JI...|       3|2010-12-01 08:34:00|     4.95|   13047.0|United Kingdom|\n",
      "|   536367|    22622|BOX OF VINTAGE AL...|       2|2010-12-01 08:34:00|     9.95|   13047.0|United Kingdom|\n",
      "|   536367|    21754|HOME BUILDING BLO...|       3|2010-12-01 08:34:00|     5.95|   13047.0|United Kingdom|\n",
      "|   536367|    21755|LOVE BUILDING BLO...|       3|2010-12-01 08:34:00|     5.95|   13047.0|United Kingdom|\n",
      "|   536367|    21777|RECIPE BOX WITH M...|       4|2010-12-01 08:34:00|     7.95|   13047.0|United Kingdom|\n",
      "+---------+---------+--------------------+--------+-------------------+---------+----------+--------------+\n",
      "only showing top 20 rows\n",
      "\n"
     ]
    }
   ],
   "source": [
    "df.show()"
   ]
  },
  {
   "cell_type": "markdown",
   "id": "5ebfb87f-5fd0-4566-967f-31b14b8b6c90",
   "metadata": {},
   "source": [
    "### Persistindo a camada bronze\n",
    "Após o processo de carga, a tabela de vendas na camada bronze será gravada como uma ```delta table```, o que permite diversas\n",
    "ações de alto desempenho.\n",
    "Porém, antes de gravar os dados anteriores serão apagados somente por uma questão de economia de espaço em disco. \n",
    "No processo normal, os _arquivos não utilizados_ são apagados __automáticamente__ após um certo período de tempo."
   ]
  },
  {
   "cell_type": "code",
   "execution_count": 8,
   "id": "e37a3a95-493f-4190-9ce5-1f84887c8d92",
   "metadata": {},
   "outputs": [
    {
     "name": "stdout",
     "output_type": "stream",
     "text": [
      "CPU times: user 11.9 ms, sys: 899 µs, total: 12.8 ms\n",
      "Wall time: 15.4 s\n"
     ]
    }
   ],
   "source": [
    "%%time\n",
    "df.write.format(\"delta\").mode(\"overwrite\").save(\"lakehouse/bronze/vendas\")"
   ]
  },
  {
   "cell_type": "markdown",
   "id": "c29b5ca5-c274-497d-b5f9-b5fe2c8c869b",
   "metadata": {},
   "source": [
    "## Comparativo de tamanhos\n",
    "Comparação entre o tmanho do arquivo excel (.xlsx) com os mesmos dados gravados no formato de ```delta table```."
   ]
  },
  {
   "cell_type": "code",
   "execution_count": 9,
   "id": "9882240e-c95e-441f-b953-1e0cdea349f2",
   "metadata": {},
   "outputs": [
    {
     "name": "stdout",
     "output_type": "stream",
     "text": [
      "23M\tlakehouse/landing/Online Retail.xlsx\n",
      "4.0K\tlakehouse/bronze/vendas/_delta_log/_commits\n",
      "60K\tlakehouse/bronze/vendas/_delta_log\n",
      "5.7M\tlakehouse/bronze/vendas\n"
     ]
    }
   ],
   "source": [
    "%%bash\n",
    "\n",
    "du -h lakehouse/landing/*.xlsx\n",
    "du -h lakehouse/bronze/vendas"
   ]
  },
  {
   "cell_type": "code",
   "execution_count": null,
   "id": "fdd3afda-ae0b-446d-8d9c-9fec70e969c5",
   "metadata": {},
   "outputs": [],
   "source": []
  }
 ],
 "metadata": {
  "kernelspec": {
   "display_name": "Python 3 (ipykernel)",
   "language": "python",
   "name": "python3"
  },
  "language_info": {
   "codemirror_mode": {
    "name": "ipython",
    "version": 3
   },
   "file_extension": ".py",
   "mimetype": "text/x-python",
   "name": "python",
   "nbconvert_exporter": "python",
   "pygments_lexer": "ipython3",
   "version": "3.11.8"
  }
 },
 "nbformat": 4,
 "nbformat_minor": 5
}

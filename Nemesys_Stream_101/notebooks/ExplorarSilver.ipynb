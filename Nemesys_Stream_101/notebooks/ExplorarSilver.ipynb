{
 "cells": [
  {
   "cell_type": "markdown",
   "id": "a4474b0d-9e5b-480e-96dc-41bc53480b21",
   "metadata": {},
   "source": [
    "# Gerar Silver"
   ]
  },
  {
   "cell_type": "code",
   "execution_count": 1,
   "id": "ccf51d1c-cba9-4cd1-805b-24b061c375a7",
   "metadata": {},
   "outputs": [],
   "source": [
    "import os\n",
    "os.environ[\"PYARROW_IGNORE_TIMEZONE\"] = \"1\""
   ]
  },
  {
   "cell_type": "code",
   "execution_count": 2,
   "id": "e45722d8-f82a-4c39-ac29-ee6dc3c70e25",
   "metadata": {},
   "outputs": [],
   "source": [
    "import ipywidgets as widgets\n",
    "import matplotlib.pyplot as plt\n",
    "import pyspark.pandas as ps\n",
    "import seaborn as sns\n",
    "\n",
    "from delta import *\n",
    "\n",
    "from matplotlib import dates\n",
    "from pyspark.sql.avro.functions import *\n",
    "from pyspark.sql.functions import col, to_date, date_format, current_timestamp, lag, to_timestamp, when, lit\n",
    "from pyspark.sql.types import StringType, DateType, StructType, DoubleType, IntegerType, LongType, TimestampType\n",
    "from pyspark.sql.window import Window\n",
    "#\n",
    "# Nome da aplicação Spark\n",
    "#\n",
    "APP_NAME=\"GerarBronze\"\n",
    "ps.options.display.max_rows = 10"
   ]
  },
  {
   "cell_type": "code",
   "execution_count": 3,
   "id": "9d1179e3-e220-4206-a7cd-72bbe227da27",
   "metadata": {},
   "outputs": [],
   "source": [
    "%run StartSpark.ipynb"
   ]
  },
  {
   "cell_type": "code",
   "execution_count": 4,
   "id": "f1912445-960a-48d8-bd8b-2161e83b386a",
   "metadata": {},
   "outputs": [],
   "source": [
    "%config SqlMagic.lazy_execution = True"
   ]
  },
  {
   "cell_type": "code",
   "execution_count": 5,
   "id": "eccbed15-f1cf-498d-b45c-a8f2ee5b0287",
   "metadata": {},
   "outputs": [],
   "source": [
    "%sql spark"
   ]
  },
  {
   "cell_type": "code",
   "execution_count": 6,
   "id": "784256cd-8491-4a4b-99da-ff3847dfa7a0",
   "metadata": {},
   "outputs": [],
   "source": [
    "def table_path(bucket:str, tier:str, table_name:str, storage:str=\"s3a\", base_dir:str=\"lakehouse\"):\n",
    "    # if len(tier.strip()) == 0:\n",
    "    #     raise ValueError(\"Tier cannot be empty\")\n",
    "\n",
    "    path = f\"{storage}://{bucket}/{base_dir}/{tier}/{table_name}\"\n",
    "    return path, path + \"/_checkpoint/\""
   ]
  },
  {
   "cell_type": "code",
   "execution_count": 7,
   "id": "a8760935-6c4d-4656-856e-de95b4ce5d1c",
   "metadata": {},
   "outputs": [
    {
     "name": "stdout",
     "output_type": "stream",
     "text": [
      "s3a://nemesys-demo1/lakehouse/silver/stocks_intraday s3a://nemesys-demo1/lakehouse/silver/stocks_intraday/_checkpoint/\n",
      "s3a://nemesys-demo1/lakehouse/gold/stocks_intraday s3a://nemesys-demo1/lakehouse/gold/stocks_intraday/_checkpoint/\n"
     ]
    }
   ],
   "source": [
    "stock_silver, stock_silver_checkpoint_dir = table_path(\"nemesys-demo1\", \"silver\", \"stocks_intraday\")\n",
    "stock_gold, stock_gold_checkpoint_dir = table_path(\"nemesys-demo1\", \"gold\", \"stocks_intraday\")\n",
    "print(stock_silver, stock_silver_checkpoint_dir)\n",
    "print(stock_gold, stock_gold_checkpoint_dir)"
   ]
  },
  {
   "cell_type": "code",
   "execution_count": 8,
   "id": "964e240f-bba5-4eb9-819d-6c6cd731033c",
   "metadata": {},
   "outputs": [],
   "source": [
    "df = spark.read.format(\"delta\").load(stock_silver)"
   ]
  },
  {
   "cell_type": "code",
   "execution_count": 9,
   "id": "53eb71a9-3dc5-42e0-89eb-8edc256c522e",
   "metadata": {},
   "outputs": [
    {
     "data": {
      "text/plain": [
       "27790"
      ]
     },
     "execution_count": 9,
     "metadata": {},
     "output_type": "execute_result"
    }
   ],
   "source": [
    "df.count()"
   ]
  },
  {
   "cell_type": "code",
   "execution_count": 10,
   "id": "4cb9ccd5-ee4c-4dc0-adec-02d8f78ec977",
   "metadata": {},
   "outputs": [],
   "source": [
    "df.createOrReplaceTempView(\"silver_stocks\")"
   ]
  },
  {
   "cell_type": "code",
   "execution_count": 11,
   "id": "a02d7480-5405-47a4-92f1-5fa60620101a",
   "metadata": {},
   "outputs": [],
   "source": [
    "df_stocks = spark.sql(\"\"\"\n",
    "select\n",
    "    ticker,\n",
    "    ano,\n",
    "    timestamp,\n",
    "    open,\n",
    "    high,\n",
    "    low,\n",
    "    close,\n",
    "    volume,\n",
    "    coalesce((close - LAG(close,1) OVER (PARTITION BY ticker ORDER BY timestamp)), 0) AS osc,\n",
    "    coalesce((osc * 100.0 / LAG(close,1) OVER (PARTITION BY ticker ORDER BY timestamp)), 0) as osc_per,\n",
    "    _capture_time_kafka,\n",
    "    _capture_time_bronze,\n",
    "    _capture_time_silver,\n",
    "    current_timestamp as _capture_time_gold,\n",
    "    unix_timestamp(_capture_time_bronze) - unix_timestamp(_capture_time_kafka) as _delta_kafka_bronze,\n",
    "    unix_timestamp(_capture_time_silver) - unix_timestamp(_capture_time_bronze) as _delta_bronze_silver,\n",
    "    unix_timestamp(_capture_time_gold) - unix_timestamp(_capture_time_silver) as _delta_silver_gold\n",
    "from silver_stocks\n",
    "\"\"\")"
   ]
  },
  {
   "cell_type": "code",
   "execution_count": 12,
   "id": "d2994bac-b21a-4d30-a6e3-8afaf8d4ca94",
   "metadata": {},
   "outputs": [
    {
     "name": "stdout",
     "output_type": "stream",
     "text": [
      "Criar tabela\n"
     ]
    }
   ],
   "source": [
    "if not DeltaTable.isDeltaTable(spark, stock_gold):\n",
    "    print(\"Criar tabela\")\n",
    "    schema = (StructType()\n",
    "        .add(\"ticker\", StringType())\n",
    "        .add('ano', IntegerType())\n",
    "        .add(\"timestamp\", TimestampType())\n",
    "        .add(\"open\", DoubleType())\n",
    "        .add(\"high\", DoubleType())\n",
    "        .add(\"low\", DoubleType())\n",
    "        .add(\"close\", DoubleType())\n",
    "        .add(\"volume\", LongType())\n",
    "        .add(\"osc\", DoubleType())\n",
    "        .add(\"osc_per\", DoubleType())\n",
    "        .add(\"_capture_time_kafka\", TimestampType())\n",
    "        .add(\"_capture_time_bronze\", TimestampType())\n",
    "        .add(\"_capture_time_silver\", TimestampType())\n",
    "        .add(\"_capture_time_gold\", TimestampType())\n",
    "        .add('_delta_kafka_bronze', IntegerType())\n",
    "        .add('_delta_bronze_silver', IntegerType())\n",
    "        .add('_delta_silver_gold', IntegerType())\n",
    "    )\n",
    "    emptyDF = spark.createDataFrame(spark.sparkContext.emptyRDD(), schema)\n",
    "    emptyDF.write.format('delta').mode('overwrite').partitionBy(\"ticker\", \"ano\").save(stock_gold)\n",
    "\n",
    "deltaTable = DeltaTable.forPath(spark, stock_gold)"
   ]
  },
  {
   "cell_type": "code",
   "execution_count": 13,
   "id": "30730063-236a-4446-a745-9a3a0120843a",
   "metadata": {},
   "outputs": [
    {
     "name": "stdout",
     "output_type": "stream",
     "text": [
      "CPU times: user 5.54 ms, sys: 5.33 ms, total: 10.9 ms\n",
      "Wall time: 12.1 s\n"
     ]
    }
   ],
   "source": [
    "%%time\n",
    "deltaTable.alias(\"t\").merge(\n",
    "          df_stocks.alias(\"s\"),\n",
    "          \"s.ticker = t.ticker and s.timestamp = t.timestamp\") \\\n",
    "        .whenMatchedUpdateAll() \\\n",
    "        .whenNotMatchedInsertAll() \\\n",
    "        .execute()"
   ]
  },
  {
   "cell_type": "code",
   "execution_count": 14,
   "id": "4e20f063-eaca-419c-8164-6a21d74fe4ab",
   "metadata": {},
   "outputs": [],
   "source": [
    "df_teste = spark.read.format(\"delta\").load(stock_gold)"
   ]
  },
  {
   "cell_type": "code",
   "execution_count": 15,
   "id": "cc260cef-5613-49a3-9dc3-ed1ee81dec42",
   "metadata": {},
   "outputs": [
    {
     "name": "stdout",
     "output_type": "stream",
     "text": [
      "CPU times: user 0 ns, sys: 2.84 ms, total: 2.84 ms\n",
      "Wall time: 2.38 s\n"
     ]
    },
    {
     "data": {
      "text/plain": [
       "27790"
      ]
     },
     "execution_count": 15,
     "metadata": {},
     "output_type": "execute_result"
    }
   ],
   "source": [
    "%%time\n",
    "df_teste.count()"
   ]
  },
  {
   "cell_type": "code",
   "execution_count": 16,
   "id": "1177dc29-f629-4688-bcd5-eb7387704659",
   "metadata": {},
   "outputs": [
    {
     "name": "stdout",
     "output_type": "stream",
     "text": [
      "CPU times: user 16.4 ms, sys: 2.2 ms, total: 18.6 ms\n",
      "Wall time: 76.8 ms\n"
     ]
    },
    {
     "data": {
      "text/html": [
       "<div>\n",
       "<style scoped>\n",
       "    .dataframe tbody tr th:only-of-type {\n",
       "        vertical-align: middle;\n",
       "    }\n",
       "\n",
       "    .dataframe tbody tr th {\n",
       "        vertical-align: top;\n",
       "    }\n",
       "\n",
       "    .dataframe thead th {\n",
       "        text-align: right;\n",
       "    }\n",
       "</style>\n",
       "<table border=\"1\" class=\"dataframe\">\n",
       "  <thead>\n",
       "    <tr style=\"text-align: right;\">\n",
       "      <th></th>\n",
       "      <th>ticker</th>\n",
       "      <th>ano</th>\n",
       "      <th>timestamp</th>\n",
       "      <th>open</th>\n",
       "      <th>high</th>\n",
       "      <th>low</th>\n",
       "      <th>close</th>\n",
       "      <th>volume</th>\n",
       "      <th>osc</th>\n",
       "      <th>osc_per</th>\n",
       "      <th>_capture_time_kafka</th>\n",
       "      <th>_capture_time_bronze</th>\n",
       "      <th>_capture_time_silver</th>\n",
       "      <th>_capture_time_gold</th>\n",
       "      <th>_delta_kafka_bronze</th>\n",
       "      <th>_delta_bronze_silver</th>\n",
       "      <th>_delta_silver_gold</th>\n",
       "    </tr>\n",
       "  </thead>\n",
       "  <tbody>\n",
       "    <tr>\n",
       "      <th>0</th>\n",
       "      <td>TSLA</td>\n",
       "      <td>2024</td>\n",
       "      <td>2024-06-13 13:30:00</td>\n",
       "      <td>188.339996</td>\n",
       "      <td>188.339996</td>\n",
       "      <td>186.850006</td>\n",
       "      <td>187.660004</td>\n",
       "      <td>51969</td>\n",
       "      <td>0.000000</td>\n",
       "      <td>0.000000</td>\n",
       "      <td>2024-06-13 18:03:04.350</td>\n",
       "      <td>2024-06-23 17:50:09.608</td>\n",
       "      <td>2024-06-24 13:19:43.573</td>\n",
       "      <td>2024-06-30 23:03:11.602638</td>\n",
       "      <td>863225</td>\n",
       "      <td>70174</td>\n",
       "      <td>553408</td>\n",
       "    </tr>\n",
       "    <tr>\n",
       "      <th>1</th>\n",
       "      <td>TSLA</td>\n",
       "      <td>2024</td>\n",
       "      <td>2024-06-13 13:31:00</td>\n",
       "      <td>187.425003</td>\n",
       "      <td>187.764999</td>\n",
       "      <td>186.365005</td>\n",
       "      <td>186.570007</td>\n",
       "      <td>27054</td>\n",
       "      <td>-1.089996</td>\n",
       "      <td>-0.580836</td>\n",
       "      <td>2024-06-13 18:03:04.350</td>\n",
       "      <td>2024-06-23 17:50:09.608</td>\n",
       "      <td>2024-06-24 13:19:43.573</td>\n",
       "      <td>2024-06-30 23:03:11.602638</td>\n",
       "      <td>863225</td>\n",
       "      <td>70174</td>\n",
       "      <td>553408</td>\n",
       "    </tr>\n",
       "    <tr>\n",
       "      <th>2</th>\n",
       "      <td>TSLA</td>\n",
       "      <td>2024</td>\n",
       "      <td>2024-06-13 13:32:00</td>\n",
       "      <td>186.419998</td>\n",
       "      <td>187.059998</td>\n",
       "      <td>186.199997</td>\n",
       "      <td>187.059998</td>\n",
       "      <td>83557</td>\n",
       "      <td>0.489990</td>\n",
       "      <td>0.262631</td>\n",
       "      <td>2024-06-13 18:03:04.350</td>\n",
       "      <td>2024-06-23 17:50:09.608</td>\n",
       "      <td>2024-06-24 13:19:43.573</td>\n",
       "      <td>2024-06-30 23:03:11.602638</td>\n",
       "      <td>863225</td>\n",
       "      <td>70174</td>\n",
       "      <td>553408</td>\n",
       "    </tr>\n",
       "    <tr>\n",
       "      <th>3</th>\n",
       "      <td>TSLA</td>\n",
       "      <td>2024</td>\n",
       "      <td>2024-06-13 13:33:00</td>\n",
       "      <td>187.429993</td>\n",
       "      <td>187.699997</td>\n",
       "      <td>186.830002</td>\n",
       "      <td>186.899994</td>\n",
       "      <td>27732</td>\n",
       "      <td>-0.160004</td>\n",
       "      <td>-0.085536</td>\n",
       "      <td>2024-06-13 18:03:04.350</td>\n",
       "      <td>2024-06-23 17:50:09.608</td>\n",
       "      <td>2024-06-24 13:19:43.573</td>\n",
       "      <td>2024-06-30 23:03:11.602638</td>\n",
       "      <td>863225</td>\n",
       "      <td>70174</td>\n",
       "      <td>553408</td>\n",
       "    </tr>\n",
       "    <tr>\n",
       "      <th>4</th>\n",
       "      <td>TSLA</td>\n",
       "      <td>2024</td>\n",
       "      <td>2024-06-13 13:34:00</td>\n",
       "      <td>186.919998</td>\n",
       "      <td>187.309998</td>\n",
       "      <td>185.875000</td>\n",
       "      <td>186.710007</td>\n",
       "      <td>25161</td>\n",
       "      <td>-0.189987</td>\n",
       "      <td>-0.101652</td>\n",
       "      <td>2024-06-13 18:03:04.350</td>\n",
       "      <td>2024-06-23 17:50:09.608</td>\n",
       "      <td>2024-06-24 13:19:43.573</td>\n",
       "      <td>2024-06-30 23:03:11.602638</td>\n",
       "      <td>863225</td>\n",
       "      <td>70174</td>\n",
       "      <td>553408</td>\n",
       "    </tr>\n",
       "    <tr>\n",
       "      <th>5</th>\n",
       "      <td>TSLA</td>\n",
       "      <td>2024</td>\n",
       "      <td>2024-06-13 13:35:00</td>\n",
       "      <td>186.509995</td>\n",
       "      <td>188.000000</td>\n",
       "      <td>186.500000</td>\n",
       "      <td>187.350006</td>\n",
       "      <td>7246</td>\n",
       "      <td>0.639999</td>\n",
       "      <td>0.342777</td>\n",
       "      <td>2024-06-13 18:03:04.350</td>\n",
       "      <td>2024-06-23 17:50:09.608</td>\n",
       "      <td>2024-06-24 13:19:43.573</td>\n",
       "      <td>2024-06-30 23:03:11.602638</td>\n",
       "      <td>863225</td>\n",
       "      <td>70174</td>\n",
       "      <td>553408</td>\n",
       "    </tr>\n",
       "    <tr>\n",
       "      <th>6</th>\n",
       "      <td>TSLA</td>\n",
       "      <td>2024</td>\n",
       "      <td>2024-06-13 13:36:00</td>\n",
       "      <td>187.169998</td>\n",
       "      <td>187.410004</td>\n",
       "      <td>186.649994</td>\n",
       "      <td>186.779999</td>\n",
       "      <td>11454</td>\n",
       "      <td>-0.570007</td>\n",
       "      <td>-0.304247</td>\n",
       "      <td>2024-06-13 18:03:04.351</td>\n",
       "      <td>2024-06-23 17:50:09.608</td>\n",
       "      <td>2024-06-24 13:19:43.573</td>\n",
       "      <td>2024-06-30 23:03:11.602638</td>\n",
       "      <td>863225</td>\n",
       "      <td>70174</td>\n",
       "      <td>553408</td>\n",
       "    </tr>\n",
       "    <tr>\n",
       "      <th>7</th>\n",
       "      <td>TSLA</td>\n",
       "      <td>2024</td>\n",
       "      <td>2024-06-13 13:37:00</td>\n",
       "      <td>186.910004</td>\n",
       "      <td>187.570007</td>\n",
       "      <td>186.910004</td>\n",
       "      <td>187.380005</td>\n",
       "      <td>9365</td>\n",
       "      <td>0.600006</td>\n",
       "      <td>0.321237</td>\n",
       "      <td>2024-06-13 18:03:04.351</td>\n",
       "      <td>2024-06-23 17:50:09.608</td>\n",
       "      <td>2024-06-24 13:19:43.573</td>\n",
       "      <td>2024-06-30 23:03:11.602638</td>\n",
       "      <td>863225</td>\n",
       "      <td>70174</td>\n",
       "      <td>553408</td>\n",
       "    </tr>\n",
       "    <tr>\n",
       "      <th>8</th>\n",
       "      <td>TSLA</td>\n",
       "      <td>2024</td>\n",
       "      <td>2024-06-13 13:38:00</td>\n",
       "      <td>187.360001</td>\n",
       "      <td>188.649994</td>\n",
       "      <td>187.354996</td>\n",
       "      <td>188.479996</td>\n",
       "      <td>15556</td>\n",
       "      <td>1.099991</td>\n",
       "      <td>0.587037</td>\n",
       "      <td>2024-06-13 18:03:04.351</td>\n",
       "      <td>2024-06-23 17:50:09.608</td>\n",
       "      <td>2024-06-24 13:19:43.573</td>\n",
       "      <td>2024-06-30 23:03:11.602638</td>\n",
       "      <td>863225</td>\n",
       "      <td>70174</td>\n",
       "      <td>553408</td>\n",
       "    </tr>\n",
       "    <tr>\n",
       "      <th>9</th>\n",
       "      <td>TSLA</td>\n",
       "      <td>2024</td>\n",
       "      <td>2024-06-13 13:39:00</td>\n",
       "      <td>188.580002</td>\n",
       "      <td>189.690002</td>\n",
       "      <td>188.580002</td>\n",
       "      <td>189.360001</td>\n",
       "      <td>15343</td>\n",
       "      <td>0.880005</td>\n",
       "      <td>0.466896</td>\n",
       "      <td>2024-06-13 18:03:04.351</td>\n",
       "      <td>2024-06-23 17:50:09.608</td>\n",
       "      <td>2024-06-24 13:19:43.573</td>\n",
       "      <td>2024-06-30 23:03:11.602638</td>\n",
       "      <td>863225</td>\n",
       "      <td>70174</td>\n",
       "      <td>553408</td>\n",
       "    </tr>\n",
       "  </tbody>\n",
       "</table>\n",
       "<p>Showing only the first 10 rows × 17 columns</p>\n",
       "</div>"
      ],
      "text/plain": [
       "  ticker   ano           timestamp        open        high         low       close  volume       osc   osc_per     _capture_time_kafka    _capture_time_bronze    _capture_time_silver         _capture_time_gold  _delta_kafka_bronze  _delta_bronze_silver  _delta_silver_gold\n",
       "0   TSLA  2024 2024-06-13 13:30:00  188.339996  188.339996  186.850006  187.660004   51969  0.000000  0.000000 2024-06-13 18:03:04.350 2024-06-23 17:50:09.608 2024-06-24 13:19:43.573 2024-06-30 23:03:11.602638               863225                 70174              553408\n",
       "1   TSLA  2024 2024-06-13 13:31:00  187.425003  187.764999  186.365005  186.570007   27054 -1.089996 -0.580836 2024-06-13 18:03:04.350 2024-06-23 17:50:09.608 2024-06-24 13:19:43.573 2024-06-30 23:03:11.602638               863225                 70174              553408\n",
       "2   TSLA  2024 2024-06-13 13:32:00  186.419998  187.059998  186.199997  187.059998   83557  0.489990  0.262631 2024-06-13 18:03:04.350 2024-06-23 17:50:09.608 2024-06-24 13:19:43.573 2024-06-30 23:03:11.602638               863225                 70174              553408\n",
       "3   TSLA  2024 2024-06-13 13:33:00  187.429993  187.699997  186.830002  186.899994   27732 -0.160004 -0.085536 2024-06-13 18:03:04.350 2024-06-23 17:50:09.608 2024-06-24 13:19:43.573 2024-06-30 23:03:11.602638               863225                 70174              553408\n",
       "4   TSLA  2024 2024-06-13 13:34:00  186.919998  187.309998  185.875000  186.710007   25161 -0.189987 -0.101652 2024-06-13 18:03:04.350 2024-06-23 17:50:09.608 2024-06-24 13:19:43.573 2024-06-30 23:03:11.602638               863225                 70174              553408\n",
       "5   TSLA  2024 2024-06-13 13:35:00  186.509995  188.000000  186.500000  187.350006    7246  0.639999  0.342777 2024-06-13 18:03:04.350 2024-06-23 17:50:09.608 2024-06-24 13:19:43.573 2024-06-30 23:03:11.602638               863225                 70174              553408\n",
       "6   TSLA  2024 2024-06-13 13:36:00  187.169998  187.410004  186.649994  186.779999   11454 -0.570007 -0.304247 2024-06-13 18:03:04.351 2024-06-23 17:50:09.608 2024-06-24 13:19:43.573 2024-06-30 23:03:11.602638               863225                 70174              553408\n",
       "7   TSLA  2024 2024-06-13 13:37:00  186.910004  187.570007  186.910004  187.380005    9365  0.600006  0.321237 2024-06-13 18:03:04.351 2024-06-23 17:50:09.608 2024-06-24 13:19:43.573 2024-06-30 23:03:11.602638               863225                 70174              553408\n",
       "8   TSLA  2024 2024-06-13 13:38:00  187.360001  188.649994  187.354996  188.479996   15556  1.099991  0.587037 2024-06-13 18:03:04.351 2024-06-23 17:50:09.608 2024-06-24 13:19:43.573 2024-06-30 23:03:11.602638               863225                 70174              553408\n",
       "9   TSLA  2024 2024-06-13 13:39:00  188.580002  189.690002  188.580002  189.360001   15343  0.880005  0.466896 2024-06-13 18:03:04.351 2024-06-23 17:50:09.608 2024-06-24 13:19:43.573 2024-06-30 23:03:11.602638               863225                 70174              553408\n",
       "\n",
       "[Showing only the first 10 rows x 17 columns]"
      ]
     },
     "execution_count": 16,
     "metadata": {},
     "output_type": "execute_result"
    }
   ],
   "source": [
    "%%time\n",
    "df_teste.pandas_api()"
   ]
  },
  {
   "cell_type": "code",
   "execution_count": null,
   "id": "57150e1f-1918-4efe-813f-e5462492e45e",
   "metadata": {},
   "outputs": [],
   "source": []
  }
 ],
 "metadata": {
  "kernelspec": {
   "display_name": "Python 3 (ipykernel)",
   "language": "python",
   "name": "python3"
  },
  "language_info": {
   "codemirror_mode": {
    "name": "ipython",
    "version": 3
   },
   "file_extension": ".py",
   "mimetype": "text/x-python",
   "name": "python",
   "nbconvert_exporter": "python",
   "pygments_lexer": "ipython3",
   "version": "3.11.8"
  }
 },
 "nbformat": 4,
 "nbformat_minor": 5
}

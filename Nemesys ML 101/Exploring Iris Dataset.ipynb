{
 "cells": [
  {
   "cell_type": "markdown",
   "id": "5245f4a6-5298-467e-b30f-6cd2e8148da0",
   "metadata": {},
   "source": [
    "# Explorando o Iris Dataset\n",
    "Baseado neste [artigo](https://www.kaggle.com/code/kostasmar/exploring-the-iris-data-set-scikit-learn)"
   ]
  },
  {
   "cell_type": "markdown",
   "id": "6b0847f3-f508-4b4b-816a-d9e9c19bb78f",
   "metadata": {},
   "source": [
    "## Preparando o ambiente\n",
    "### Importanto bibliotecas"
   ]
  },
  {
   "cell_type": "code",
   "execution_count": null,
   "id": "143d2377-615e-41bc-990b-4fbe4e44e2a6",
   "metadata": {},
   "outputs": [],
   "source": [
    "import numpy as np\n",
    "import pandas as pd\n",
    "import matplotlib.pyplot as plt\n",
    "import seaborn as sns\n",
    "\n",
    "from sklearn.datasets import load_iris\n",
    "\n",
    "# %matplotlib inline"
   ]
  },
  {
   "cell_type": "markdown",
   "id": "a63a48f3-0e76-4617-bf47-5c1db743a631",
   "metadata": {},
   "source": [
    "### Configurando o pandas para mostrar todas as colunas"
   ]
  },
  {
   "cell_type": "code",
   "execution_count": null,
   "id": "843d98f2-ddd8-4a6c-9230-a0f90720860c",
   "metadata": {},
   "outputs": [],
   "source": [
    "pd.set_option('display.max_columns', None)"
   ]
  },
  {
   "cell_type": "markdown",
   "id": "41575183-1df0-4f63-87d5-a65451e22df1",
   "metadata": {},
   "source": [
    "### Carregando o dataset que vem junto com o Scikit"
   ]
  },
  {
   "cell_type": "code",
   "execution_count": null,
   "id": "a040aaa2-c75d-4b16-b438-3d6989af18f2",
   "metadata": {},
   "outputs": [],
   "source": [
    "iris_data = load_iris()"
   ]
  },
  {
   "cell_type": "markdown",
   "id": "6b51731a-3e79-4cd2-ac2c-39c1deb592f9",
   "metadata": {},
   "source": [
    "## Analisando a estrutura da base do Scikit\n",
    "Monstrando como o dataset é organizado, mostrando os nomes dos campos"
   ]
  },
  {
   "cell_type": "code",
   "execution_count": null,
   "id": "39444bf2-cfdb-404b-86f4-ad42a287b767",
   "metadata": {},
   "outputs": [],
   "source": [
    "iris_data.keys()"
   ]
  },
  {
   "cell_type": "markdown",
   "id": "9433e265-609b-4088-8f85-eaf71c932d50",
   "metadata": {},
   "source": [
    "Mostrando as features"
   ]
  },
  {
   "cell_type": "code",
   "execution_count": null,
   "id": "e0767dc2-b7a6-4971-b283-4d937a1392ea",
   "metadata": {},
   "outputs": [],
   "source": [
    "iris_data['feature_names']"
   ]
  },
  {
   "cell_type": "markdown",
   "id": "155ae263-7ef8-4ba7-9083-ba346a841014",
   "metadata": {},
   "source": [
    "Mostrando os alvos (tipos para classificação)"
   ]
  },
  {
   "cell_type": "code",
   "execution_count": null,
   "id": "ae7a2948-62e9-456f-8710-4aaa5a7a9b32",
   "metadata": {},
   "outputs": [],
   "source": [
    "iris_data['target_names']"
   ]
  },
  {
   "cell_type": "markdown",
   "id": "cf00503e-6600-4cba-8e48-a977ef73320b",
   "metadata": {},
   "source": [
    "## Montando o dataframe\n",
    "Criando um _pandas dataframe_ com os dados da base e utilizando as _features_ como nome de coluna"
   ]
  },
  {
   "cell_type": "code",
   "execution_count": null,
   "id": "3224a41a-d7bc-4b27-b033-9c0d79af09ee",
   "metadata": {},
   "outputs": [],
   "source": [
    "iris_df = pd.DataFrame(data = iris_data['data'], columns = iris_data['feature_names'])\n",
    "iris_df['Iris type'] = iris_data['target']"
   ]
  },
  {
   "cell_type": "markdown",
   "id": "7459521e-6fef-419c-ba14-7b1fe1899b41",
   "metadata": {},
   "source": [
    "Tamano da base"
   ]
  },
  {
   "cell_type": "code",
   "execution_count": null,
   "id": "2c95cd3a-ddbe-4fa4-99a1-a51f8d7ae3bb",
   "metadata": {},
   "outputs": [],
   "source": [
    "iris_df.count()"
   ]
  },
  {
   "cell_type": "markdown",
   "id": "0c8af678-c280-4f00-bb12-9b716fee3c69",
   "metadata": {},
   "source": [
    "Mostrar uma amostra da base"
   ]
  },
  {
   "cell_type": "code",
   "execution_count": null,
   "id": "1a1a214c-564a-4824-9629-bc7b5a8a5ae4",
   "metadata": {},
   "outputs": [],
   "source": [
    "iris_df.head()"
   ]
  },
  {
   "cell_type": "markdown",
   "id": "ec6c76a9-535e-4cd5-8319-2e2faae9391b",
   "metadata": {},
   "source": [
    "### Preparando a base\n",
    "Na base a coluna __Iris type__ (cópia da coluna __target__) indica o seguinte:\n",
    "\n",
    "0 -> sentosa\n",
    "\n",
    "1 -> versicolor\n",
    "\n",
    "2 -> virginica\n",
    "\n",
    "Acrescentar a coluna __Iris name__ traduzindo estes valores numéricos para texto, conforme a tabela acima"
   ]
  },
  {
   "cell_type": "code",
   "execution_count": null,
   "id": "ae67fc2a-3bbf-4a4b-8748-ac6e9be5a0c8",
   "metadata": {},
   "outputs": [],
   "source": [
    "iris_df['Iris name'] = iris_df['Iris type'].apply(lambda x: 'sentosa' if x == 0 else ('versicolor' if x == 1 else 'virginica'))"
   ]
  },
  {
   "cell_type": "markdown",
   "id": "1b63c152-9623-4035-bdd9-dc82ed46754a",
   "metadata": {},
   "source": [
    "Amostra da tabela resultante"
   ]
  },
  {
   "cell_type": "code",
   "execution_count": null,
   "id": "eea96ec8-3b88-45be-a09b-81c76ad3224f",
   "metadata": {},
   "outputs": [],
   "source": [
    "iris_df.head()"
   ]
  },
  {
   "cell_type": "markdown",
   "id": "d4c08c23-0dc5-4a38-a6a4-92ff228875e1",
   "metadata": {},
   "source": [
    "## Visualizando os dados\n",
    "### Gráfico de violino\n",
    "\n",
    "Um gráfico de [violino](https://mode.com/blog/violin-plot-examples/#:~:text=What%20is%20a%20violin%20plot%3F,the%20density%20of%20each%20variable) é um híbrido entre o _box plot_ e _kernel density plot_ onde mostra a distribuição da amostra que mostra os picos nos dados.\n",
    "É utilizado para visualizar a distribuição de dados numéricos.\n"
   ]
  },
  {
   "cell_type": "code",
   "execution_count": null,
   "id": "73789e18-4ec8-41b5-819e-7cba6244841a",
   "metadata": {},
   "outputs": [],
   "source": [
    "# im just making a function in order not to repeat the same code\n",
    "def plot_violin(y2,i):\n",
    "    plt.subplot(2,2,i)\n",
    "    \n",
    "    sns.violinplot(x='Iris name',y= y2, data=iris_df)"
   ]
  },
  {
   "cell_type": "code",
   "execution_count": null,
   "id": "290b11ee-a5e1-407d-b33c-4a9904044066",
   "metadata": {},
   "outputs": [],
   "source": [
    "plt.figure(figsize=(17,12))\n",
    "i = 1\n",
    "for measurement in iris_df.columns[:-2]:\n",
    "    plot_violin(measurement,i)\n",
    "    sns.despine(offset=10, trim=True)\n",
    "    i += 1"
   ]
  },
  {
   "cell_type": "markdown",
   "id": "5ff941c3-9b0d-40d2-a2b8-091bc1a1015f",
   "metadata": {},
   "source": [
    "A partir dos gráficos de violino acima podemos notar uma alta densidade de comprimento e largura das espécies sentosa, especialmente para comprimento de sépala, comprimento de pétala e largura de pétala. Também podemos observar que os valores médios e o intervalo interquartil para as medidas das pétalas são facilmente distinguíveis, embora os valores das espécies virginica sejam mais dispersos"
   ]
  },
  {
   "cell_type": "code",
   "execution_count": null,
   "id": "49e649b5-1586-4fbe-a9fd-3e2580bda281",
   "metadata": {},
   "outputs": [],
   "source": [
    "sns.pairplot(iris_df, hue = 'Iris name', vars = ['sepal length (cm)', 'sepal width (cm)', 'petal length (cm)', 'petal width (cm)'], palette = 'Set1' );"
   ]
  },
  {
   "cell_type": "markdown",
   "id": "aed311dd-9416-4f74-80bb-88060cc7d469",
   "metadata": {},
   "source": [
    "A partir dos gráficos acima podemos notar que os três tipos diferentes podem ser facilmente identificados pelas medidas das pétalas e sépalas. Assim, um modelo de ML poderia aprender como separá-los.\n",
    "\n",
    "Vamos também produzir um mapa de calor acima para descobrir as correlações entre as medições"
   ]
  },
  {
   "cell_type": "code",
   "execution_count": null,
   "id": "7ff204b9-2f6e-4f8b-9471-d9d7b856940b",
   "metadata": {},
   "outputs": [],
   "source": [
    "iris_df.iloc[:,:4].corr()"
   ]
  },
  {
   "cell_type": "code",
   "execution_count": null,
   "id": "a72a6b4f-4fb3-4545-9a6e-e1f9a81a9b57",
   "metadata": {},
   "outputs": [],
   "source": [
    "fig, axes = plt.subplots(figsize=(7,7))\n",
    "sns.heatmap(iris_df.iloc[:,:4].corr(), annot = True, cbar=False)\n",
    "axes.tick_params(labelrotation=45)\n",
    "plt.title('Correlation heatmap', fontsize = 15);"
   ]
  },
  {
   "cell_type": "markdown",
   "id": "1c0683c7-c4ca-4410-acdf-f0b69ab194d5",
   "metadata": {},
   "source": [
    "A largura e a largura da sépala não estão correlacionadas, embora sejam altamente correlacionadas. Usar apenas medidas altamente correlacionadas pode aumentar nosso modelo de precisão."
   ]
  },
  {
   "cell_type": "markdown",
   "id": "333a3a81-c0b4-46d8-93a9-905f8e7786d8",
   "metadata": {},
   "source": [
    "## Treinando um modelo de Machine Learning"
   ]
  },
  {
   "cell_type": "markdown",
   "id": "1f9711a8-1323-435b-ad00-493c722a2200",
   "metadata": {},
   "source": [
    "Vamos usar e testar o modelo k-Nearest Neighbors, e como nossos dados não parecem \"ruidosos\", podemos escolher um pequeno valor de k. Definiremos k como 3.\n",
    "\n",
    "Embora tenhamos notado uma alta correlação entre as medidas de largura e comprimento das pétalas, utilizaremos todas as medidas disponíveis no momento, e posteriormente verificaremos qual dá a melhor precisão.\n",
    "\n",
    "Além disso, tenha em mente que o KNN está calculando a distância euclidiana entre o ponto que queremos prever e o(s) ponto(s) de dados de treinamento mais próximo(s) (vizinho). Para este fim, dimensionar (normalizar) os dados antes de aplicar o alogirthm geralmente é uma boa abordagem. Porém, no nosso caso, todos os dados utilizam a mesma unidade de medida (cm), portanto isso não é necessário.\n",
    "\n",
    "Vamos primeiro chamar train_test_split para dividir nossos dados"
   ]
  },
  {
   "cell_type": "code",
   "execution_count": null,
   "id": "d1b15a65-c2a4-47df-8a8f-932bb1b58ccc",
   "metadata": {},
   "outputs": [],
   "source": [
    "from sklearn.model_selection import train_test_split"
   ]
  },
  {
   "cell_type": "code",
   "execution_count": null,
   "id": "cf7a12ab-a997-495f-b7ef-5901efed6985",
   "metadata": {},
   "outputs": [],
   "source": [
    "X = iris_df[['sepal length (cm)', 'sepal width (cm)', 'petal length (cm)','petal width (cm)']]\n",
    "y = iris_df['Iris name']"
   ]
  },
  {
   "cell_type": "code",
   "execution_count": null,
   "id": "8a8d9779-0a74-4cd2-9932-d75b8b51fd2d",
   "metadata": {},
   "outputs": [],
   "source": [
    "X_train, X_test, y_train, y_test = train_test_split(X, y, random_state = 0)"
   ]
  },
  {
   "cell_type": "code",
   "execution_count": null,
   "id": "129db293-47bb-49f4-b65a-4d3135ace33f",
   "metadata": {},
   "outputs": [],
   "source": [
    "from sklearn.neighbors import KNeighborsClassifier\n",
    "knn = KNeighborsClassifier(n_neighbors=3)"
   ]
  },
  {
   "cell_type": "code",
   "execution_count": null,
   "id": "f60cde9e-6c76-496c-a932-84435aa803e2",
   "metadata": {},
   "outputs": [],
   "source": [
    "knn.fit(X_train, y_train)"
   ]
  },
  {
   "cell_type": "markdown",
   "id": "b77c9836-d881-4342-bc24-95f3348eeedb",
   "metadata": {},
   "source": [
    "## Avaliando o modelo"
   ]
  },
  {
   "cell_type": "code",
   "execution_count": null,
   "id": "f23d8426-e8a9-4bf9-bc4e-a79626680ccd",
   "metadata": {},
   "outputs": [],
   "source": [
    "y_pred = knn.predict(X_test)"
   ]
  },
  {
   "cell_type": "code",
   "execution_count": null,
   "id": "87921cc8-faa5-4870-865b-14b88eb81626",
   "metadata": {},
   "outputs": [],
   "source": [
    "y_pred"
   ]
  },
  {
   "cell_type": "markdown",
   "id": "0f66e6ad-0ed6-4668-9841-df01b3d23ce0",
   "metadata": {},
   "source": [
    "Calculando a precisão com _knn.score()_"
   ]
  },
  {
   "cell_type": "code",
   "execution_count": null,
   "id": "965edbb7-2776-4c58-886d-c55e1fd32e00",
   "metadata": {},
   "outputs": [],
   "source": [
    "print(f'A precisão do modelo com k=3 é: {knn.score(X_test, y_test)*100:2.2f}% ({knn.score(X_test, y_test)})')"
   ]
  },
  {
   "cell_type": "markdown",
   "id": "1a5e317e-606e-4169-987b-cc3a45f6086d",
   "metadata": {},
   "source": [
    "## Gerando e visualizando a matriz de confusão\n",
    "\n",
    "A Matriz de Confusão exibe a distribuição dos registros em termos de suas classes atuais e de suas classes previstas. Isso indica a qualidade do modelo atual. Um modelo pode conter duas ou mais classes previstas."
   ]
  },
  {
   "cell_type": "code",
   "execution_count": null,
   "id": "e72bb969-072d-4e30-b3d9-d372b4717e07",
   "metadata": {},
   "outputs": [],
   "source": [
    "# Source code credit for this function: https://gist.github.com/shaypal5/94c53d765083101efc0240d776a23823\n",
    "# also thanks https://www.youtube.com/watch?v=2osIZ-dSPGE&ab_channel=codebasics for his video, letting me know for this code\n",
    "def print_confusion_matrix(confusion_matrix, class_names, figsize = (9,7), fontsize=14):\n",
    "    \"\"\"Prints a confusion matrix, as returned by sklearn.metrics.confusion_matrix, as a heatmap.\n",
    "    \n",
    "    Note that due to returning the created figure object, when this funciton is called in a\n",
    "    notebook the figure willl be printed twice. To prevent this, either append ; to your\n",
    "    function call, or modify the function by commenting out the return expression.\n",
    "    \n",
    "    Arguments\n",
    "    ---------\n",
    "    confusion_matrix: numpy.ndarray\n",
    "        The numpy.ndarray object returned from a call to sklearn.metrics.confusion_matrix. \n",
    "        Similarly constructed ndarrays can also be used.\n",
    "    class_names: list\n",
    "        An ordered list of class names, in the order they index the given confusion matrix.\n",
    "    figsize: tuple\n",
    "        A 2-long tuple, the first value determining the horizontal size of the ouputted figure,\n",
    "        the second determining the vertical size. Defaults to (10,7).\n",
    "    fontsize: int\n",
    "        Font size for axes labels. Defaults to 14.\n",
    "        \n",
    "    Returns\n",
    "    -------\n",
    "    matplotlib.figure.Figure\n",
    "        The resulting confusion matrix figure\n",
    "    \"\"\"\n",
    "    df_cm = pd.DataFrame(\n",
    "        confusion_matrix, index=class_names, columns=class_names, \n",
    "    )\n",
    "    fig = plt.figure(figsize=figsize)\n",
    "    try:\n",
    "        heatmap = sns.heatmap(df_cm, annot=True, fmt=\"d\", cbar=False)\n",
    "    except ValueError:\n",
    "        raise ValueError(\"Confusion matrix values must be integers.\")\n",
    "    heatmap.yaxis.set_ticklabels(heatmap.yaxis.get_ticklabels(), rotation=0, ha='right', fontsize=fontsize)\n",
    "    heatmap.xaxis.set_ticklabels(heatmap.xaxis.get_ticklabels(), rotation=45, ha='right', fontsize=fontsize)\n",
    "    plt.ylabel('True label', fontsize = 12)\n",
    "    plt.xlabel('Predicted label', fontsize = 12)\n",
    "    plt.title('Confusion Matrix', fontsize = 16)\n",
    "    # Note that due to returning the created figure object, when this funciton is called in a notebook\n",
    "    # the figure willl be printed twice. To prevent this, either append ; to your function call, or\n",
    "    # modify the function by commenting out this return expression.\n",
    "    # return fig"
   ]
  },
  {
   "cell_type": "code",
   "execution_count": null,
   "id": "c276d714-75c6-44f0-8b02-17fe0e23f7d7",
   "metadata": {},
   "outputs": [],
   "source": [
    "from sklearn.metrics import classification_report, confusion_matrix"
   ]
  },
  {
   "cell_type": "code",
   "execution_count": null,
   "id": "628f6b11-0eca-46c1-be8e-fb43050b83c8",
   "metadata": {},
   "outputs": [],
   "source": [
    "print_confusion_matrix(confusion_matrix(y_test, y_pred), ['sentosa', 'versicolor', 'virginica'])"
   ]
  },
  {
   "cell_type": "code",
   "execution_count": null,
   "id": "46451c97-b0b0-42bb-a49f-aba4e293f0da",
   "metadata": {},
   "outputs": [],
   "source": [
    "print(classification_report(y_test, y_pred))"
   ]
  },
  {
   "cell_type": "markdown",
   "id": "45bfb96b-a0c7-48d2-b5a3-a44bfaeb7603",
   "metadata": {},
   "source": [
    "De acordo com o relatório de classificação podemos notar exatidão, precisão e recall muito bons.\n",
    "\n",
    "1. Precisão significa quantas previsões estavam corretas dentre o número da classe prevista. Precisão = TP/(TP + FP) Para sentosa e versicolor o KNN obteve precisão perfeita, enquanto para virginica 90%, o que significa que de todos os rótulos previstos atribuídos como virginica 90% estavam corretos. Mais precisamente, o modelo previu 10 flores como virginica, enquanto as 9 foram previsões corretas (TP) e 1 errada (FP). Precisão_virginica 9/(9+1) = 0,9.\n",
    "\n",
    "2. Recall significa quantas previsões estavam corretas em relação ao número real da classe específica. Rechamada = TP/(TP + FN). Para versicolor, a pontuação de recall foi de 94%, o que significa que o modelo previu 15 flores versicolores (TP) corretas, enquanto 1 delas foi atribuída incorretamente como virginica (FN). Recall_versicolor = 15/(15 + 1) = 0,94.\n",
    "\n",
    "Neste caso, como não temos grande desequilíbrio em nossa amostra, os escores de acurácia servem como uma boa medida de desempenho do modelo."
   ]
  },
  {
   "cell_type": "code",
   "execution_count": null,
   "id": "e7406f33-8cfc-4079-ba29-473489c16a9c",
   "metadata": {},
   "outputs": [],
   "source": [
    "fig = plt.figure(figsize=(15,7))\n",
    "\n",
    "ax1 = fig.add_subplot(1,2,1)\n",
    "ax1 = sns.scatterplot(x = X_test['petal length (cm)'], y = X_test['petal width (cm)'], hue = y_pred, alpha = 0.5)\n",
    "plt.title('Predicted')\n",
    "plt.legend(title='Iris name')\n",
    "\n",
    "ax2 = fig.add_subplot(1,2,2)\n",
    "ax2 = sns.scatterplot(x = X_test['petal length (cm)'], y = X_test['petal width (cm)'], hue = y_test, alpha = 0.5)\n",
    "plt.title('Actual');"
   ]
  },
  {
   "cell_type": "code",
   "execution_count": null,
   "id": "e72d96f9-91e7-4942-bb27-e8010a925559",
   "metadata": {},
   "outputs": [],
   "source": []
  }
 ],
 "metadata": {
  "kernelspec": {
   "display_name": "Python 3 (ipykernel)",
   "language": "python",
   "name": "python3"
  },
  "language_info": {
   "codemirror_mode": {
    "name": "ipython",
    "version": 3
   },
   "file_extension": ".py",
   "mimetype": "text/x-python",
   "name": "python",
   "nbconvert_exporter": "python",
   "pygments_lexer": "ipython3",
   "version": "3.11.5"
  }
 },
 "nbformat": 4,
 "nbformat_minor": 5
}

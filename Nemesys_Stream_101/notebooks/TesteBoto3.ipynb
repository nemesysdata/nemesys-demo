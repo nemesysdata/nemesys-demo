{
 "cells": [
  {
   "cell_type": "code",
   "execution_count": 1,
   "id": "f6feec15-3735-4b49-bf66-777629760142",
   "metadata": {},
   "outputs": [],
   "source": [
    "%run load_environment.ipynb"
   ]
  },
  {
   "cell_type": "code",
   "execution_count": 2,
   "id": "cc6f9d5a-e8d9-4bb7-8068-432e9259de9f",
   "metadata": {},
   "outputs": [],
   "source": [
    "import boto3\n",
    "import botocore"
   ]
  },
  {
   "cell_type": "code",
   "execution_count": 8,
   "id": "89d303cb-b019-4d4c-a089-274407be609c",
   "metadata": {},
   "outputs": [],
   "source": [
    "s3_client = boto3.client('s3', \n",
    "                         endpoint_url=S3_URL, \n",
    "                         aws_access_key_id=S3_ACCESS_KEY, \n",
    "                         aws_secret_access_key=S3_SECRET_KEY\n",
    ")"
   ]
  },
  {
   "cell_type": "code",
   "execution_count": 26,
   "id": "cb5f0ea5-1531-4176-a4d1-6bebfc90cef0",
   "metadata": {},
   "outputs": [],
   "source": [
    "bucket_name = 'nemesys-demo1'\n",
    "file_key = 'lakehouse/bronze/stocks_intraday/'\n",
    "file_key = 'lakehouse/bronze/stocks_intraday/part-00000-f2798f5d-dda2-480e-b569-a7f32e0be37e-c000.snappy.parquet'\n"
   ]
  },
  {
   "cell_type": "code",
   "execution_count": 27,
   "id": "3fc37319-f9a9-45d3-8d57-459733921d40",
   "metadata": {},
   "outputs": [
    {
     "name": "stdout",
     "output_type": "stream",
     "text": [
      "O arquivo 'lakehouse/bronze/stocks_intraday/part-00000-f2798f5d-dda2-480e-b569-a7f32e0be37e-c000.snappy.parquet' existe no bucket 'nemesys-demo1'\n"
     ]
    }
   ],
   "source": [
    "try:\n",
    "    s3_client.head_object(Bucket=bucket_name, Key=file_key)\n",
    "    print(f\"O arquivo '{file_key}' existe no bucket '{bucket_name}'\")\n",
    "except botocore.exceptions.ClientError as error:\n",
    "    print(error)\n",
    "    if error.response['Error']['Code'] == '404':\n",
    "        print(f\"O arquivo '{file_key}' não existe no bucket '{bucket_name}'\")\n",
    "    else:\n",
    "        raise error\n"
   ]
  },
  {
   "cell_type": "code",
   "execution_count": 38,
   "id": "eb568bf2-3945-45be-b9d0-68fb2111f97d",
   "metadata": {},
   "outputs": [
    {
     "name": "stdout",
     "output_type": "stream",
     "text": [
      "True\n",
      "True\n",
      "True\n"
     ]
    }
   ],
   "source": [
    "prefix = 'lakehouse/bronze/stocks_intraday'\n",
    "paginator = s3_client.get_paginator('list_objects_v2')\n",
    "page_iterator = paginator.paginate(Bucket=bucket_name, Prefix=prefix)\n",
    "\n",
    "for page in page_iterator:\n",
    "    # print(page['KeyCount'])\n",
    "    \n",
    "    if page['KeyCount'] == 0:\n",
    "        print(False)\n",
    "    else:\n",
    "        print(True)"
   ]
  },
  {
   "cell_type": "code",
   "execution_count": null,
   "id": "ee578f68-0477-455a-bc09-61f1e6db6785",
   "metadata": {},
   "outputs": [],
   "source": []
  }
 ],
 "metadata": {
  "kernelspec": {
   "display_name": "Python 3 (ipykernel)",
   "language": "python",
   "name": "python3"
  },
  "language_info": {
   "codemirror_mode": {
    "name": "ipython",
    "version": 3
   },
   "file_extension": ".py",
   "mimetype": "text/x-python",
   "name": "python",
   "nbconvert_exporter": "python",
   "pygments_lexer": "ipython3",
   "version": "3.11.8"
  }
 },
 "nbformat": 4,
 "nbformat_minor": 5
}

{
 "cells": [
  {
   "cell_type": "code",
   "execution_count": 1,
   "id": "d59a567a-9ec7-4570-acef-5af5a7fc74ac",
   "metadata": {},
   "outputs": [
    {
     "name": "stdout",
     "output_type": "stream",
     "text": [
      "17.66s - pydevd: Sending message related to process being replaced timed-out after 5 seconds\n"
     ]
    }
   ],
   "source": [
    "# !pip install --quiet python-dotenv"
   ]
  },
  {
   "cell_type": "code",
   "execution_count": 2,
   "id": "52896db3-8f49-4f69-9ef2-2a4d24b02ce2",
   "metadata": {},
   "outputs": [],
   "source": [
    "%load_ext dotenv\n",
    "%dotenv"
   ]
  },
  {
   "cell_type": "code",
   "execution_count": 3,
   "id": "cb8d7138-bef1-45ec-a192-346a99691d20",
   "metadata": {},
   "outputs": [],
   "source": [
    "import os\n",
    "import warnings\n",
    "warnings.simplefilter(action='ignore', category=FutureWarning)"
   ]
  },
  {
   "cell_type": "code",
   "execution_count": 4,
   "id": "fd8f8b1b-8d80-4ca7-824e-456d36ba1980",
   "metadata": {},
   "outputs": [],
   "source": [
    "STORAGE_ACCOUNT = os.getenv(\"STORAGE_ACCOUNT\")\n",
    "STORAGE_KEY = os.getenv(\"STORAGE_KEY\")\n",
    "BLOB_CONTAINER = os.getenv(\"BLOB_CONTAINER\")\n",
    "LAKEHOUSE_PATH = os.getenv(\"LAKEHOUSE_PATH\")\n",
    "\n",
    "S3_URL=os.getenv(\"S3_URL\")\n",
    "S3_ACCESS_KEY=os.getenv(\"S3_ACCESS_KEY\")\n",
    "S3_SECRET_KEY=os.getenv(\"S3_SECRET_KEY\")\n",
    "\n",
    "KAFKA_BOOTSTRAP = os.getenv(\"KAFKA_BOOTSTRAP\")\n",
    "KAFKA_TOPIC = os.getenv(\"KAFKA_TOPIC\")\n",
    "\n",
    "postgresHostname = os.getenv(\"POSTGRES_HOSTNAME\")\n",
    "postgresDatabase = os.getenv(\"POSTGRES_DATABASE\")\n",
    "postgresPort = os.getenv(\"POSTGRES_PORT\")\n",
    "postgresUrl = f\"jdbc:postgresql://{postgresHostname}:{postgresPort}/{postgresDatabase}?\"\n",
    "postgresUsername = os.getenv(\"POSTGRES_USERNAME\")\n",
    "postgresPassword = os.getenv(\"POSTGRES_PASSWORD\")"
   ]
  },
  {
   "cell_type": "code",
   "execution_count": null,
   "id": "cfe96043-3f22-46fe-abf4-dc037590d7fa",
   "metadata": {},
   "outputs": [],
   "source": []
  }
 ],
 "metadata": {
  "kernelspec": {
   "display_name": "Python 3 (ipykernel)",
   "language": "python",
   "name": "python3"
  },
  "language_info": {
   "codemirror_mode": {
    "name": "ipython",
    "version": 3
   },
   "file_extension": ".py",
   "mimetype": "text/x-python",
   "name": "python",
   "nbconvert_exporter": "python",
   "pygments_lexer": "ipython3",
   "version": "3.11.8"
  }
 },
 "nbformat": 4,
 "nbformat_minor": 5
}

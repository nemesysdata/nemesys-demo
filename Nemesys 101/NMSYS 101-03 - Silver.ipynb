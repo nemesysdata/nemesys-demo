{
 "cells": [
  {
   "cell_type": "markdown",
   "id": "1ad2592c-3321-4d91-bac8-4316f3037054",
   "metadata": {},
   "source": [
    "# Gerar a Camada Silver a partir da Bronze\n",
    "\n",
    "Neste notebook iremos processar os dados da tabela de vendas na camada Gold, gravando o resultado na camada Silver. \n",
    "Neste caso nossa transformação será tirar o C das invoices que são canceladas e gerar uma nova coluna, tipo, que terá os seguintes valores:\n",
    "- __I__: Invoice\n",
    "- __C__: Cancelamento\n",
    "\n",
    "Ao final a coluna InvoiceNo sera ajustada sem o C e convertida para numérica.\n",
    "\n",
    "## Carregar a Camada Bronze\n",
    "Definir e registrar como temporárias as tabelas da camada bronze. Para facilitar a identificação das mesmo será adicionado o prefixo \n",
    "_bronze antes do nome da tabela:\n",
    "\n",
    "__Ex.:__ vendas -> bronze_vendas"
   ]
  },
  {
   "cell_type": "code",
   "execution_count": 1,
   "id": "55ff033c-5364-4503-94e3-2019d8dc0191",
   "metadata": {},
   "outputs": [],
   "source": [
    "from load_lakehouse import *"
   ]
  },
  {
   "cell_type": "markdown",
   "id": "0703cac3-cbce-46dd-8e3e-4b777d4d982f",
   "metadata": {},
   "source": [
    "## Gerar a tabela de Vendas\n",
    "A tabela de vendas será transformada para incluir o campo _Type_ seguindo a regra definida acima; \n",
    "o campo _InvoiceNo_ será transformado em bigint (long), porém, antes de processar este campo precisa retirar o C do inicio das invoices que foram canceladas."
   ]
  },
  {
   "cell_type": "code",
   "execution_count": 2,
   "id": "b2c665b3-0470-4663-82d8-cbcfcfc9ae17",
   "metadata": {},
   "outputs": [],
   "source": [
    "df = %sql \\\n",
    "select \\\n",
    "    cast(case when left(InvoiceNo,1) = 'C' then substring(InvoiceNo, 2) else InvoiceNo end as bigint) as InvoiceNo, \\\n",
    "    case when left(InvoiceNo,1) = 'C' then 'C'else 'I' end as Type, \\\n",
    "    StockCode, \\\n",
    "    Description, \\\n",
    "    Quantity, \\\n",
    "    InvoiceDate, \\\n",
    "    UnitPrice, \\\n",
    "    CustomerID, \\\n",
    "    Country \\\n",
    "from bronze_vendas"
   ]
  },
  {
   "cell_type": "markdown",
   "id": "32b2cfc5-790c-4e80-8d26-106a55669875",
   "metadata": {},
   "source": [
    "Segue como ficou o schema da tabela"
   ]
  },
  {
   "cell_type": "code",
   "execution_count": 3,
   "id": "8ff34880-c51c-47b0-aeb0-a51a5d088763",
   "metadata": {},
   "outputs": [
    {
     "name": "stdout",
     "output_type": "stream",
     "text": [
      "root\n",
      " |-- InvoiceNo: long (nullable = true)\n",
      " |-- Type: string (nullable = false)\n",
      " |-- StockCode: string (nullable = true)\n",
      " |-- Description: string (nullable = true)\n",
      " |-- Quantity: long (nullable = true)\n",
      " |-- InvoiceDate: timestamp (nullable = true)\n",
      " |-- UnitPrice: double (nullable = true)\n",
      " |-- CustomerID: double (nullable = true)\n",
      " |-- Country: string (nullable = true)\n",
      "\n"
     ]
    }
   ],
   "source": [
    "df.printSchema()"
   ]
  },
  {
   "cell_type": "markdown",
   "id": "1e187f84-87a1-4b27-aeff-484319214dc6",
   "metadata": {},
   "source": [
    "### Limpar Silver existente\n",
    "Antes de salvar as tabelas da camada Silver, estas serão removidas para economizar espaço em disco."
   ]
  },
  {
   "cell_type": "code",
   "execution_count": 4,
   "id": "ceb0629a-1ba9-4685-9736-d5fea637f365",
   "metadata": {},
   "outputs": [],
   "source": [
    "%%bash\n",
    "if [ -d lakehouse/silver/vendas ]; then\n",
    "    rm -Rf lakehouse/silver/vendas\n",
    "fi\n",
    "\n",
    "if [ -d lakehouse/silver/stock ]; then\n",
    "    rm -Rf lakehouse/silver/stock\n",
    "fi\n",
    "\n",
    "if [ -d lakehouse/silver/country ]; then\n",
    "    rm -Rf lakehouse/silver/country\n",
    "fi"
   ]
  },
  {
   "cell_type": "markdown",
   "id": "1aea4e7d-fdd1-4ddc-9a70-c9874fa286b4",
   "metadata": {},
   "source": [
    "## Salvar tabela de vendas"
   ]
  },
  {
   "cell_type": "code",
   "execution_count": 5,
   "id": "a22896dc-0563-47e6-b505-1f1f0c33f938",
   "metadata": {},
   "outputs": [
    {
     "name": "stdout",
     "output_type": "stream",
     "text": [
      "CPU times: user 4.37 ms, sys: 0 ns, total: 4.37 ms\n",
      "Wall time: 7.38 s\n"
     ]
    }
   ],
   "source": [
    "%%time\n",
    "\n",
    "df.write.format(\"delta\").mode(\"overwrite\").save(\"lakehouse/silver/vendas\")"
   ]
  },
  {
   "cell_type": "markdown",
   "id": "0637fc27-c3fb-4bbb-bf61-47f0ae1330af",
   "metadata": {},
   "source": [
    "## Gerar tabelas derivadas\n",
    "Analisando a tabela de vendas é possível perceber que podemos extrair tabelas derivadas desta:\n",
    "1. __Stock__: tabela com os produtos comercializados\n",
    "2. __Country__: tabela de países que tiveram alguma invoice\n",
    "\n",
    "### Tabela Stock"
   ]
  },
  {
   "cell_type": "code",
   "execution_count": 6,
   "id": "3104d4d6-fbb5-4932-ade6-c40858fc3c93",
   "metadata": {},
   "outputs": [
    {
     "name": "stdout",
     "output_type": "stream",
     "text": [
      "CPU times: user 3.02 ms, sys: 0 ns, total: 3.02 ms\n",
      "Wall time: 2.24 s\n"
     ]
    }
   ],
   "source": [
    "%%time\n",
    "\n",
    "spark.sql(\"\"\"\n",
    "select distinct\n",
    "    StockCode,\n",
    "    Description\n",
    "from bronze_vendas\n",
    "order by description\n",
    "\"\"\").write.format(\"delta\").mode(\"overwrite\").save(\"lakehouse/silver/stock\")"
   ]
  },
  {
   "cell_type": "markdown",
   "id": "e5ace623-4977-4b21-bbd7-f63d6925e112",
   "metadata": {},
   "source": [
    "### Tabela de Countries"
   ]
  },
  {
   "cell_type": "code",
   "execution_count": 7,
   "id": "4c33f050-967d-4bcb-a51a-5c5c60211bdf",
   "metadata": {},
   "outputs": [
    {
     "name": "stdout",
     "output_type": "stream",
     "text": [
      "CPU times: user 0 ns, sys: 3.3 ms, total: 3.3 ms\n",
      "Wall time: 1.53 s\n"
     ]
    }
   ],
   "source": [
    "%%time\n",
    "\n",
    "spark.sql(\"\"\"\n",
    "select distinct\n",
    "    country\n",
    "from bronze_vendas\n",
    "order by country\n",
    "\"\"\").write.format(\"delta\").mode(\"overwrite\").save(\"lakehouse/silver/country\")"
   ]
  },
  {
   "cell_type": "code",
   "execution_count": null,
   "id": "5e18cf5f-72f2-4f29-a6a5-e971820d605e",
   "metadata": {},
   "outputs": [],
   "source": []
  }
 ],
 "metadata": {
  "kernelspec": {
   "display_name": "Python 3 (ipykernel)",
   "language": "python",
   "name": "python3"
  },
  "language_info": {
   "codemirror_mode": {
    "name": "ipython",
    "version": 3
   },
   "file_extension": ".py",
   "mimetype": "text/x-python",
   "name": "python",
   "nbconvert_exporter": "python",
   "pygments_lexer": "ipython3",
   "version": "3.11.5"
  }
 },
 "nbformat": 4,
 "nbformat_minor": 5
}

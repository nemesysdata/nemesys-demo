{
 "cells": [
  {
   "cell_type": "code",
   "execution_count": 1,
   "id": "aa5cbe72-210f-4b9a-9c6e-dc2d2f18acea",
   "metadata": {},
   "outputs": [],
   "source": [
    "#\n",
    "# Nome da aplicação Spark\n",
    "#\n",
    "APP_NAME=\"ExplorarBronze\""
   ]
  },
  {
   "cell_type": "code",
   "execution_count": 2,
   "id": "364341b4-8619-4221-b147-ad407ff76148",
   "metadata": {},
   "outputs": [],
   "source": [
    "%run StartSpark.ipynb"
   ]
  },
  {
   "cell_type": "code",
   "execution_count": 4,
   "id": "e075166f-29d1-4d60-99a2-4a0603133c58",
   "metadata": {},
   "outputs": [],
   "source": [
    "delta_path, _ = paths(\"stocks\", \"StockData\", \"bronze\")"
   ]
  },
  {
   "cell_type": "code",
   "execution_count": 5,
   "id": "a5a51dde-994c-4764-a52e-b77c772a30fa",
   "metadata": {},
   "outputs": [
    {
     "data": {
      "text/plain": [
       "'abfss://nemesys-stream-101@nemesysdemo.dfs.core.windows.net/lakehouse/bronze/StockData_stocks'"
      ]
     },
     "execution_count": 5,
     "metadata": {},
     "output_type": "execute_result"
    }
   ],
   "source": [
    "delta_path"
   ]
  },
  {
   "cell_type": "code",
   "execution_count": 7,
   "id": "8c65f4ef-7beb-40fe-87c1-ef7db916f4c4",
   "metadata": {},
   "outputs": [
    {
     "name": "stdout",
     "output_type": "stream",
     "text": [
      "CPU times: user 364 ms, sys: 112 ms, total: 476 ms\n",
      "Wall time: 12.3 s\n"
     ]
    },
    {
     "data": {
      "text/html": [
       "<div>\n",
       "<style scoped>\n",
       "    .dataframe tbody tr th:only-of-type {\n",
       "        vertical-align: middle;\n",
       "    }\n",
       "\n",
       "    .dataframe tbody tr th {\n",
       "        vertical-align: top;\n",
       "    }\n",
       "\n",
       "    .dataframe thead th {\n",
       "        text-align: right;\n",
       "    }\n",
       "</style>\n",
       "<table border=\"1\" class=\"dataframe\">\n",
       "  <thead>\n",
       "    <tr style=\"text-align: right;\">\n",
       "      <th></th>\n",
       "      <th>path</th>\n",
       "      <th>metrics</th>\n",
       "    </tr>\n",
       "  </thead>\n",
       "  <tbody>\n",
       "    <tr>\n",
       "      <th>0</th>\n",
       "      <td>abfss://nemesys-stream-101@nemesysdemo.dfs.cor...</td>\n",
       "      <td>(1, 4, (191739, 191739, 191739.0, 1, 191739), ...</td>\n",
       "    </tr>\n",
       "  </tbody>\n",
       "</table>\n",
       "</div>"
      ],
      "text/plain": [
       "                                                path  \\\n",
       "0  abfss://nemesys-stream-101@nemesysdemo.dfs.cor...   \n",
       "\n",
       "                                             metrics  \n",
       "0  (1, 4, (191739, 191739, 191739.0, 1, 191739), ...  "
      ]
     },
     "execution_count": 7,
     "metadata": {},
     "output_type": "execute_result"
    }
   ],
   "source": [
    "%%time\n",
    "from delta.tables import *\n",
    "deltaTable = DeltaTable.forPath(spark, delta_path)\n",
    "df = deltaTable.optimize().executeCompaction()\n",
    "df.toPandas()"
   ]
  },
  {
   "cell_type": "code",
   "execution_count": 11,
   "id": "a5b5fa86-2c9e-4ea8-b916-39e2b450e9f1",
   "metadata": {},
   "outputs": [
    {
     "data": {
      "text/plain": [
       "DataFrame[path: string, metrics: struct<numFilesAdded:bigint,numFilesRemoved:bigint,filesAdded:struct<min:bigint,max:bigint,avg:double,totalFiles:bigint,totalSize:bigint>,filesRemoved:struct<min:bigint,max:bigint,avg:double,totalFiles:bigint,totalSize:bigint>,partitionsOptimized:bigint,zOrderStats:struct<strategyName:string,inputCubeFiles:struct<num:bigint,size:bigint>,inputOtherFiles:struct<num:bigint,size:bigint>,inputNumCubes:bigint,mergedFiles:struct<num:bigint,size:bigint>,numOutputCubes:bigint,mergedNumCubes:bigint>,numBatches:bigint,totalConsideredFiles:bigint,totalFilesSkipped:bigint,preserveInsertionOrder:boolean,numFilesSkippedToReduceWriteAmplification:bigint,numBytesSkippedToReduceWriteAmplification:bigint,startTimeMs:bigint,endTimeMs:bigint,totalClusterParallelism:bigint,totalScheduledTasks:bigint,autoCompactParallelismStats:struct<maxClusterActiveParallelism:bigint,minClusterActiveParallelism:bigint,maxSessionActiveParallelism:bigint,minSessionActiveParallelism:bigint>,deletionVectorStats:struct<numDeletionVectorsRemoved:bigint,numDeletionVectorRowsRemoved:bigint>,numTableColumns:bigint,numTableColumnsWithStats:bigint>]"
      ]
     },
     "execution_count": 11,
     "metadata": {},
     "output_type": "execute_result"
    }
   ],
   "source": [
    "df"
   ]
  },
  {
   "cell_type": "code",
   "execution_count": null,
   "id": "e9b0f29f-db23-4701-a7e6-fed69a5f1e83",
   "metadata": {},
   "outputs": [],
   "source": []
  }
 ],
 "metadata": {
  "kernelspec": {
   "display_name": "Python 3 (ipykernel)",
   "language": "python",
   "name": "python3"
  },
  "language_info": {
   "codemirror_mode": {
    "name": "ipython",
    "version": 3
   },
   "file_extension": ".py",
   "mimetype": "text/x-python",
   "name": "python",
   "nbconvert_exporter": "python",
   "pygments_lexer": "ipython3",
   "version": "3.11.5"
  }
 },
 "nbformat": 4,
 "nbformat_minor": 5
}

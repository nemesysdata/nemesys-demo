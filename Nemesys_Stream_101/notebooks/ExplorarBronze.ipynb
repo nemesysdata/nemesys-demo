{
 "cells": [
  {
   "cell_type": "markdown",
   "id": "e497ac5e-d11c-4a1a-878b-84d475224bef",
   "metadata": {},
   "source": [
    "# Explorar a Camada Bronze\n",
    "\n",
    "Analisar os dados na camada bronze para compreender o cenário e identificar as transformações necessárias para criar a camada Silver\n",
    "\n",
    "## Importar bibliotecar"
   ]
  },
  {
   "cell_type": "code",
   "execution_count": null,
   "id": "c821d040-f508-4322-949d-3502362b6304",
   "metadata": {},
   "outputs": [],
   "source": [
    "import ipywidgets as widgets\n",
    "import seaborn as sns\n",
    "import matplotlib.pyplot as plt\n",
    "from matplotlib import dates\n",
    "#\n",
    "# Nome da aplicação Spark\n",
    "#\n",
    "APP_NAME=\"ExplorarBronze\""
   ]
  },
  {
   "cell_type": "markdown",
   "id": "9f027ecc-9343-4bd5-a7cd-6490e862dc75",
   "metadata": {},
   "source": [
    "## Inicializar Spark e definir funções de apoio"
   ]
  },
  {
   "cell_type": "code",
   "execution_count": null,
   "id": "0d8e1f7d-237a-475e-89e4-10b610cdde7e",
   "metadata": {},
   "outputs": [],
   "source": [
    "%run StartSpark.ipynb"
   ]
  },
  {
   "cell_type": "markdown",
   "id": "e86be13a-79a4-44b5-bd11-b2aa6373d6ad",
   "metadata": {},
   "source": [
    "## Carregar as tabelas da camada Bronze"
   ]
  },
  {
   "cell_type": "code",
   "execution_count": null,
   "id": "75487e27-3ca8-4044-b9a0-0cbe254f13ea",
   "metadata": {},
   "outputs": [],
   "source": [
    "_ = loadAndRegister(\"stocks\", \"StockData\", \"bronze\")"
   ]
  },
  {
   "cell_type": "markdown",
   "id": "2fb7332f-7389-4965-9bb5-3fcf02aece8f",
   "metadata": {},
   "source": [
    "## Listar as tabelas e mostrar algumas informações sobre os dados\n",
    "\n",
    "Lista de tabelas."
   ]
  },
  {
   "cell_type": "code",
   "execution_count": null,
   "id": "d896d5f8-b8e8-4c2e-8a03-7a42e1278560",
   "metadata": {},
   "outputs": [],
   "source": [
    "%%sql_display\n",
    "show tables"
   ]
  },
  {
   "cell_type": "markdown",
   "id": "b4cd561b-0eb7-4b6c-9846-4de5430d17b7",
   "metadata": {},
   "source": [
    "Quantidade de linhas por tipo de ação e tipo de operação"
   ]
  },
  {
   "cell_type": "code",
   "execution_count": null,
   "id": "40ee73d5-4d05-4027-8a1e-de7192039d9b",
   "metadata": {},
   "outputs": [],
   "source": [
    "%%sql_display\n",
    "select \n",
    "    ticker,\n",
    "    __op,\n",
    "    count(*) as qtd\n",
    "from bronze_stocks\n",
    "group by all\n",
    "order by ticker, __op"
   ]
  },
  {
   "cell_type": "markdown",
   "id": "691300db-f0f8-444f-8aab-c7e3b9ed28ee",
   "metadata": {},
   "source": [
    "Quantidade de entradas por ação"
   ]
  },
  {
   "cell_type": "code",
   "execution_count": null,
   "id": "07435132-1f86-417c-a081-174a11edd3d4",
   "metadata": {
    "scrolled": true
   },
   "outputs": [],
   "source": [
    "%%time\n",
    "%%sql_display \n",
    "select \n",
    "    ticker,\n",
    "    count(*) as qtd\n",
    "from bronze_stocks\n",
    "group by all\n",
    "order by ticker"
   ]
  },
  {
   "cell_type": "markdown",
   "id": "211b4508-c5ff-4c25-8afc-e2099986b37f",
   "metadata": {},
   "source": [
    "## Gerar um gráfico de variação no valor das ações\n",
    "\n",
    "Primeiramente definimos a query"
   ]
  },
  {
   "cell_type": "code",
   "execution_count": null,
   "id": "4263b857-ac45-4fc5-9b82-79bc8d95cbe4",
   "metadata": {},
   "outputs": [],
   "source": [
    "df = %sql select ticker, timestamp - interval 3 hours as timestamp, close, volume from bronze_stocks where timestamp >= current_timestamp - interval 8 hours order by ticker, timestamp"
   ]
  },
  {
   "cell_type": "markdown",
   "id": "7159bf5d-18e1-4fdf-84ae-fddb0bf9752d",
   "metadata": {},
   "source": [
    "Definição dos elementos da toolbar"
   ]
  },
  {
   "cell_type": "code",
   "execution_count": null,
   "id": "01d50b91-ee7f-4711-810e-1f4d2c051fcc",
   "metadata": {},
   "outputs": [],
   "source": [
    "ticker = widgets.Dropdown(\n",
    "    options=[\"AAPL\", \"AMZN\", \"GOOG\", \"MSFT\", \"TSLA\", \"NU\"],\n",
    "    value=\"AAPL\",\n",
    "    description=\"Stock:\",\n",
    "    disabled=False,\n",
    ")\n",
    "\n",
    "button = widgets.Button(\n",
    "    description='Refresh',\n",
    "    disabled=False,\n",
    "    button_style='', # 'success', 'info', 'warning', 'danger' or ''\n",
    "    tooltip='Refresh Charts',\n",
    "    icon='arrows-rotate' # (FontAwesome names without the `fa-` prefix)\n",
    ")"
   ]
  },
  {
   "cell_type": "markdown",
   "id": "1575ab83-c09a-444e-93c2-fe393f301b8d",
   "metadata": {},
   "source": [
    "Funções para plotar os gráficos"
   ]
  },
  {
   "cell_type": "code",
   "execution_count": null,
   "id": "1ef93e09-d9d3-4412-b6ec-f44957f69fec",
   "metadata": {},
   "outputs": [],
   "source": [
    "def plotTickerValue(ticker):\n",
    "    _df = df.toPandas()\n",
    "    colors = sns.color_palette('pastel')[0:5]\n",
    "    \n",
    "    sns.set_style(\"ticks\",{'axes.grid' : True})\n",
    "\n",
    "    _, ax = plt.subplots()\n",
    "\n",
    "    g = sns.lineplot(_df[_df.ticker == ticker], x=\"timestamp\", y=\"close\", ax=ax)\n",
    "    _ = g.tick_params(axis=\"x\", rotation=45) \n",
    "    _ = plt.title(f\"Variação no Valor das Ações da {ticker}\")\n",
    "    _ = ax.xaxis.set_major_formatter(dates.DateFormatter(\"%y-%m-%d %H:%M\"))\n",
    "\n",
    "def plotTickerVolume(ticker):\n",
    "    _df = df.toPandas()\n",
    "    colors = sns.color_palette('pastel')[0:5]\n",
    "    \n",
    "    sns.set_style(\"ticks\",{'axes.grid' : True})\n",
    "\n",
    "    _, ax = plt.subplots()\n",
    "    g = sns.lineplot(_df[_df.ticker == ticker], x=\"timestamp\", y=\"volume\", ax=ax)\n",
    "    _ = g.tick_params(axis=\"x\", rotation=45) \n",
    "    _ = plt.title(f\"Variação no Volume Negociado da {ticker}\")\n",
    "    _ = ax.xaxis.set_major_formatter(dates.DateFormatter(\"%y-%m-%d %H:%M\"))"
   ]
  },
  {
   "cell_type": "markdown",
   "id": "92e76475-fe35-4728-97e1-b0432d7cc1a5",
   "metadata": {},
   "source": [
    "### Renderizar a inteface definida"
   ]
  },
  {
   "cell_type": "code",
   "execution_count": null,
   "id": "e459494c-3cd7-4023-881e-9f55cad89397",
   "metadata": {
    "editable": true,
    "slideshow": {
     "slide_type": ""
    },
    "tags": []
   },
   "outputs": [],
   "source": [
    "toolbar = widgets.HBox([ticker, button])\n",
    "w1 = widgets.interactive_output(plotTickerValue, {\"ticker\": ticker})\n",
    "w2 = widgets.interactive_output(plotTickerVolume, {\"ticker\": ticker})\n",
    "ui = widgets.HBox([w1, w2])\n",
    "display(toolbar, ui)\n",
    "\n",
    "def refresh(b):\n",
    "    # plotTickerValue(ticker.value)\n",
    "    # plotTickerVolume(ticker.value)\n",
    "    display(toolbar, ui)\n",
    "\n",
    "button.on_click(refresh)"
   ]
  },
  {
   "cell_type": "markdown",
   "id": "331d7f00-a60c-476f-aafb-304f61adbbef",
   "metadata": {},
   "source": [
    "## Preparar transformações para a camada Silver\n",
    "\n",
    "Apresentar uma amostragem dos dados"
   ]
  },
  {
   "cell_type": "code",
   "execution_count": null,
   "id": "a286f580-1a69-4b4e-a95c-e4f332c936f7",
   "metadata": {},
   "outputs": [],
   "source": [
    "%%sql_display\n",
    "select * \n",
    "from bronze_stocks\n",
    "order by ticker, timestamp"
   ]
  },
  {
   "cell_type": "markdown",
   "id": "c953a5bb-e049-4377-8cef-1fdf9d5d9c42",
   "metadata": {},
   "source": [
    "### Transformações\n",
    "\n",
    "Analisando os dados acima identificamos as seguintes transformações\n",
    "1. **Particionamento de dados**: visando aumentar a performance, os dados serão particionados por _ticker_ (ação) e pelo dia (_timestamp_ formatado como YYYY-MM-DD). Para isso será adicionado uma coluna chamada _day_.\n",
    "2. **Oscilação de valores**: baseando-se no campo _close_ (valor de fechamento do período atual), retirar seu valor do período anterior (função _lag_). Adicionando a coluna _osc_ com este valor.\n",
    "3. **Percentual de Oscilação**: baseado no campo _osc_, criar uma coluna chamada _osc_per_ com o percentual da variação.\n",
    "4. **Ajustar __timestamp__**: O campo *__ts_ms* que o horário em que o _kafka connector_ capturou o registro vem em formato _unix timestamp_ e precisa ser convertido para um formato mais amigável."
   ]
  },
  {
   "cell_type": "code",
   "execution_count": null,
   "id": "bc453317-6b6b-4f8f-9019-69bb9d39b582",
   "metadata": {},
   "outputs": [],
   "source": [
    "df_silver = %sql \\\n",
    "SELECT \\\n",
    "    _id, \\\n",
    "    ticker, \\\n",
    "    date_format(timestamp, \"yyyy-MM-dd\") as day, \\\n",
    "    description, \\\n",
    "    timestamp, \\\n",
    "    open, \\\n",
    "    high, \\\n",
    "    low, \\\n",
    "    close, \\\n",
    "    volume,\\\n",
    "    (close - LAG(close,1) OVER (PARTITION BY ticker ORDER BY timestamp)) AS osc, \\\n",
    "    (osc * 100.0 / LAG(close,1) OVER (PARTITION BY ticker ORDER BY timestamp)) as osc_per, \\\n",
    "    __op, \\\n",
    "    __collection, \\\n",
    "    (to_timestamp(__ts_ms / 1000) - interval 5 hours) as __ts_ms \\\n",
    "from bronze_stocks \\\n",
    "where ticker = \"AAPL\""
   ]
  },
  {
   "cell_type": "code",
   "execution_count": null,
   "id": "f2ccd98d-47cf-4f54-82d9-ee9f35f15106",
   "metadata": {},
   "outputs": [],
   "source": [
    "d = df_silver.fillna(value=0)"
   ]
  },
  {
   "cell_type": "code",
   "execution_count": null,
   "id": "b7eb2cbc-4227-45ac-8757-7e54a9e5186d",
   "metadata": {},
   "outputs": [],
   "source": [
    "d.toPandas()"
   ]
  },
  {
   "cell_type": "code",
   "execution_count": null,
   "id": "e44f70f0-c164-45f2-be9d-c4631ad569ee",
   "metadata": {},
   "outputs": [],
   "source": []
  }
 ],
 "metadata": {
  "kernelspec": {
   "display_name": "Python 3 (ipykernel)",
   "language": "python",
   "name": "python3"
  },
  "language_info": {
   "codemirror_mode": {
    "name": "ipython",
    "version": 3
   },
   "file_extension": ".py",
   "mimetype": "text/x-python",
   "name": "python",
   "nbconvert_exporter": "python",
   "pygments_lexer": "ipython3",
   "version": "3.11.5"
  }
 },
 "nbformat": 4,
 "nbformat_minor": 5
}

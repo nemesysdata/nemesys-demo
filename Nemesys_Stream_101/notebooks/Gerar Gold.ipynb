{
 "cells": [
  {
   "cell_type": "markdown",
   "id": "72aa706a-1dfa-42c5-8473-47d32261afc4",
   "metadata": {},
   "source": [
    "# Explorar a Camada Silver"
   ]
  },
  {
   "cell_type": "code",
   "execution_count": null,
   "id": "b4c3080e-b6d2-4e47-abf6-dd00250f0a2f",
   "metadata": {},
   "outputs": [],
   "source": [
    "import ipywidgets as widgets\n",
    "import seaborn as sns\n",
    "import matplotlib.pyplot as plt\n",
    "from matplotlib import dates\n",
    "import pyspark.pandas as ps\n",
    "#\n",
    "# Nome da aplicação Spark\n",
    "#\n",
    "APP_NAME=\"ExplorarSilver\"\n",
    "ps.options.display.max_rows = 10"
   ]
  },
  {
   "cell_type": "markdown",
   "id": "db50cc08-8ff3-4536-bac0-815bc686b982",
   "metadata": {},
   "source": [
    "## Inicializar Spark e definir funções de apoio"
   ]
  },
  {
   "cell_type": "code",
   "execution_count": null,
   "id": "27752af6-f3c3-4e3f-afb0-7db9325d0373",
   "metadata": {},
   "outputs": [],
   "source": [
    "%run StartSpark.ipynb"
   ]
  },
  {
   "cell_type": "markdown",
   "id": "4662afe6-dd5e-4be3-8a2e-cb996f318754",
   "metadata": {},
   "source": [
    "## Carregar as tabelas da camada Silver"
   ]
  },
  {
   "cell_type": "code",
   "execution_count": null,
   "id": "70acb55d-484b-437a-aa4e-f7ac87db8707",
   "metadata": {},
   "outputs": [],
   "source": [
    "_ = loadAndRegister(\"stocks\", \"StockData\", \"silver\")"
   ]
  },
  {
   "cell_type": "code",
   "execution_count": null,
   "id": "48f3d30d-3c54-4ef3-9e4b-1a36f3568dac",
   "metadata": {},
   "outputs": [],
   "source": [
    "%%sql_display\n",
    "select\n",
    "    ticker,\n",
    "    day,\n",
    "    count(*)\n",
    "from silver_stocks\n",
    "group by all\n",
    "order by ticker, day"
   ]
  },
  {
   "cell_type": "code",
   "execution_count": null,
   "id": "1b0c8eae-9250-4fcf-b8ae-5e75fcd1553e",
   "metadata": {},
   "outputs": [],
   "source": [
    "%%sql_display\n",
    "select\n",
    "    ticker,\n",
    "    day,\n",
    "    timestamp,\n",
    "    open,\n",
    "    high,\n",
    "    low,\n",
    "    close\n",
    "from silver_stocks\n",
    "where ticker=\"AAPL\"\n",
    " and day = \"2024-05-22\"\n",
    "order by ticker, timestamp\n",
    "limit 1"
   ]
  },
  {
   "cell_type": "code",
   "execution_count": null,
   "id": "b7abbca1-e5a1-473c-8043-51db144b2e2b",
   "metadata": {},
   "outputs": [],
   "source": [
    "%%sql_display\n",
    "select\n",
    "    ticker,\n",
    "    day,\n",
    "    timestamp,\n",
    "    open,\n",
    "    high,\n",
    "    low,\n",
    "    close\n",
    "from silver_stocks\n",
    "where ticker=\"AAPL\"\n",
    " and day = \"2024-05-22\"\n",
    "order by ticker, timestamp desc\n",
    "limit 1"
   ]
  },
  {
   "cell_type": "code",
   "execution_count": null,
   "id": "a0945d0b-736c-467f-a17e-8bb0eff5540e",
   "metadata": {},
   "outputs": [],
   "source": [
    "%%sql_display\n",
    "CREATE OR REPLACE TEMPORARY VIEW stocks_data AS \n",
    "select * \n",
    "from silver_stocks \n",
    "order by ticker, day, timestamp"
   ]
  },
  {
   "cell_type": "code",
   "execution_count": null,
   "id": "44f628e0-41af-45c2-b2f5-2e6842382e35",
   "metadata": {},
   "outputs": [],
   "source": [
    "%%sql_display\n",
    "show tables"
   ]
  },
  {
   "cell_type": "code",
   "execution_count": null,
   "id": "39086291-46b9-4966-87ba-e8e810e39720",
   "metadata": {},
   "outputs": [],
   "source": [
    "%%sql_display\n",
    "CREATE OR REPLACE TEMPORARY VIEW gold_daily AS\n",
    "select\n",
    "    ticker,\n",
    "    day,\n",
    "    first(open) as open,\n",
    "    min(low) as low,\n",
    "    max(high) as high,\n",
    "    last(close) as close,\n",
    "    sum(volume) as volume\n",
    "from stocks_data\n",
    "group by all\n",
    "order by ticker, day"
   ]
  },
  {
   "cell_type": "code",
   "execution_count": null,
   "id": "8f6573d7-e7d3-4acd-ab59-004478a58652",
   "metadata": {},
   "outputs": [],
   "source": [
    "df = %sql select *, (close - open) as osc, (osc / open) as osc_per from gold_daily"
   ]
  },
  {
   "cell_type": "code",
   "execution_count": null,
   "id": "bbf934ab-ae8b-4cac-9ecd-ab0fa8d4e03d",
   "metadata": {},
   "outputs": [],
   "source": [
    "df.pandas_api()"
   ]
  },
  {
   "cell_type": "code",
   "execution_count": null,
   "id": "fa6dc6e0-680b-43c7-ac96-95cd88a2e626",
   "metadata": {},
   "outputs": [],
   "source": [
    "# (df\n",
    "#   .write\n",
    "#   .format(\"jdbc\")\n",
    "#   .option(\"url\", postgresUrl)\n",
    "#   .option(\"driver\", \"org.postgresql.Driver\")\n",
    "#   .option(\"dbtable\", \"stocks_daily\")\n",
    "#   .option(\"user\", postgresUsername)\n",
    "#   .option(\"password\", postgresPassword)\n",
    "#   .mode(\"overwrite\")\n",
    "#   .save()\n",
    "# )"
   ]
  },
  {
   "cell_type": "code",
   "execution_count": null,
   "id": "e5df144d-dd77-4efd-b4d4-10e01187bbf4",
   "metadata": {},
   "outputs": [],
   "source": [
    "df = %sql \\\n",
    "select \\\n",
    "    _id, \\\n",
    "    ticker, \\\n",
    "    day, \\\n",
    "    description, \\\n",
    "    timestamp - interval 3 hours as timestamp, \\\n",
    "    open, \\\n",
    "    high, \\\n",
    "    low, \\\n",
    "    close, \\\n",
    "    volume, \\\n",
    "    osc, \\\n",
    "    osc_per, \\\n",
    "    __op, \\\n",
    "    __collection, \\\n",
    "    __ts_ms \\\n",
    "from silver_stocks \\\n",
    "order by ticker, timestamp desc"
   ]
  },
  {
   "cell_type": "code",
   "execution_count": null,
   "id": "88128d21-88d7-4edc-9990-00629ff093fd",
   "metadata": {
    "scrolled": true
   },
   "outputs": [],
   "source": [
    "df.pandas_api()"
   ]
  },
  {
   "cell_type": "code",
   "execution_count": null,
   "id": "8e4b1b20-558b-4f1d-ae31-86071c7ac492",
   "metadata": {},
   "outputs": [],
   "source": [
    "# (df\n",
    "#   .write\n",
    "#   .format(\"jdbc\")\n",
    "#   .option(\"url\", postgresUrl)\n",
    "#   .option(\"driver\", \"org.postgresql.Driver\")\n",
    "#   .option(\"dbtable\", \"stocks_intraday\")\n",
    "#   .option(\"user\", postgresUsername)\n",
    "#   .option(\"password\", postgresPassword)\n",
    "#   .mode(\"overwrite\")\n",
    "#   .save()\n",
    "# )"
   ]
  },
  {
   "cell_type": "code",
   "execution_count": null,
   "id": "e706ab03-a12e-48c5-a8b5-8de49a9474bb",
   "metadata": {},
   "outputs": [],
   "source": []
  }
 ],
 "metadata": {
  "kernelspec": {
   "display_name": "Python 3 (ipykernel)",
   "language": "python",
   "name": "python3"
  },
  "language_info": {
   "codemirror_mode": {
    "name": "ipython",
    "version": 3
   },
   "file_extension": ".py",
   "mimetype": "text/x-python",
   "name": "python",
   "nbconvert_exporter": "python",
   "pygments_lexer": "ipython3",
   "version": "3.11.5"
  }
 },
 "nbformat": 4,
 "nbformat_minor": 5
}

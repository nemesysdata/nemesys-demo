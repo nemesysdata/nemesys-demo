{
 "cells": [
  {
   "cell_type": "markdown",
   "id": "a1c3d1d8-640b-4da1-aeb7-73e3125ab40e",
   "metadata": {},
   "source": [
    "# Protótipo de otimização do Lakehouse"
   ]
  },
  {
   "cell_type": "code",
   "execution_count": 1,
   "id": "1ccf40c3-bfee-41f2-9f51-afda434eea6f",
   "metadata": {
    "execution": {
     "iopub.execute_input": "2024-02-22T15:39:44.870690Z",
     "iopub.status.busy": "2024-02-22T15:39:44.869906Z",
     "iopub.status.idle": "2024-02-22T15:39:52.718172Z",
     "shell.execute_reply": "2024-02-22T15:39:52.717556Z",
     "shell.execute_reply.started": "2024-02-22T15:39:44.870662Z"
    }
   },
   "outputs": [
    {
     "name": "stdout",
     "output_type": "stream",
     "text": [
      "\u001b[31mERROR: pip's dependency resolver does not currently take into account all the packages that are installed. This behaviour is the source of the following dependency conflicts.\n",
      "tensorflow 2.13.0 requires typing-extensions<4.6.0,>=3.6.6, but you have typing-extensions 4.9.0 which is incompatible.\u001b[0m\u001b[31m\n",
      "\u001b[0m"
     ]
    }
   ],
   "source": [
    "!pip install --quiet azure-storage-blob delta-spark"
   ]
  },
  {
   "cell_type": "code",
   "execution_count": 2,
   "id": "626f6fed-4d81-4e8d-8ea7-028562db9215",
   "metadata": {},
   "outputs": [],
   "source": [
    "from delta.tables import *\n",
    "from azure.storage.blob import BlobServiceClient, BlobPrefix"
   ]
  },
  {
   "cell_type": "code",
   "execution_count": 3,
   "id": "434ad9d5-34c9-4393-8e4f-0fc752e9304a",
   "metadata": {},
   "outputs": [],
   "source": [
    "#\n",
    "# Nome da aplicação Spark\n",
    "#\n",
    "APP_NAME=\"OptimizeLakeHouse\""
   ]
  },
  {
   "cell_type": "code",
   "execution_count": 4,
   "id": "f6684705-afe8-48f7-9625-ab58fc8d6e93",
   "metadata": {},
   "outputs": [],
   "source": [
    "%run StartSpark.ipynb\n",
    "spark.conf.set(\"spark.databricks.delta.retentionDurationCheck.enabled\", \"False\")"
   ]
  },
  {
   "cell_type": "code",
   "execution_count": 5,
   "id": "02f58814-69a3-49cf-aa83-3ade5cf98b98",
   "metadata": {},
   "outputs": [],
   "source": [
    "delta_path, _ = paths(\"stocks\", \"StockData\", \"bronze\")\n",
    "url = f\"DefaultEndpointsProtocol=https;AccountName={STORAGE_ACCOUNT};AccountKey={STORAGE_KEY};EndpointSuffix=core.windows.net\"\n",
    "blob_service_client = BlobServiceClient.from_connection_string(conn_str=url, container_name=BLOB_CONTAINER, blob_name=f'{LAKEHOUSE_PATH}/bronze/StockData_stocks')\n",
    "container_client = blob_service_client.get_container_client(container=\"nemesys-stream-101\")\n"
   ]
  },
  {
   "cell_type": "code",
   "execution_count": 6,
   "id": "ad3cdd31-17cc-418d-a37c-68a58150c62a",
   "metadata": {},
   "outputs": [],
   "source": [
    "def break_path(path:str):\n",
    "    tokens = path.split(\"/\")\n",
    "    tier = tokens[1]\n",
    "    tokens = tokens[2].split(\"_\")\n",
    "    db = tokens[0]\n",
    "    table = tokens[1]\n",
    "    return tier, db, table\n",
    "    \n",
    "def findTables(path:str=\"lakehouse/\"):\n",
    "    tables = []\n",
    "    \n",
    "    for blob_tier in container_client.walk_blobs(name_starts_with=path):\n",
    "        for blob_table in container_client.walk_blobs(name_starts_with=blob_tier.name):\n",
    "            if \"checkpoint\" not in blob_table.name:\n",
    "                tier, db, table = break_path(blob_table.name)\n",
    "                tables.append((tier, db, table))\n",
    "    return tables\n",
    "\n",
    "tables = findTables()"
   ]
  },
  {
   "cell_type": "code",
   "execution_count": null,
   "id": "6e058aa8-25ee-4211-aa10-8a7022a3bd8b",
   "metadata": {},
   "outputs": [
    {
     "name": "stdout",
     "output_type": "stream",
     "text": [
      "Otimizando: abfss://nemesys-stream-101@nemesysdemo.dfs.core.windows.net/lakehouse/bronze/StockData_stocks\n"
     ]
    }
   ],
   "source": [
    "for tier, db, table in tables:\n",
    "    delta_path, _ = paths(table, db, tier)\n",
    "    print(f\"Otimizando: {delta_path}\")\n",
    "    deltaTable = DeltaTable.forPath(spark, delta_path)\n",
    "    deltaTable.optimize().executeCompaction()\n",
    "    deltaTable.vacuum(4)"
   ]
  },
  {
   "cell_type": "code",
   "execution_count": null,
   "id": "4c4114af-fd46-4151-90f8-8f0e4ffa49ef",
   "metadata": {},
   "outputs": [],
   "source": []
  }
 ],
 "metadata": {
  "kernelspec": {
   "display_name": "Python 3 (ipykernel)",
   "language": "python",
   "name": "python3"
  },
  "language_info": {
   "codemirror_mode": {
    "name": "ipython",
    "version": 3
   },
   "file_extension": ".py",
   "mimetype": "text/x-python",
   "name": "python",
   "nbconvert_exporter": "python",
   "pygments_lexer": "ipython3",
   "version": "3.11.5"
  }
 },
 "nbformat": 4,
 "nbformat_minor": 5
}

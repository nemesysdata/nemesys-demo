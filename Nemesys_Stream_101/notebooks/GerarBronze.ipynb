{
 "cells": [
  {
   "cell_type": "markdown",
   "id": "a4474b0d-9e5b-480e-96dc-41bc53480b21",
   "metadata": {},
   "source": [
    "# Gerar Bronze "
   ]
  },
  {
   "cell_type": "code",
   "execution_count": 1,
   "id": "e45722d8-f82a-4c39-ac29-ee6dc3c70e25",
   "metadata": {},
   "outputs": [
    {
     "name": "stderr",
     "output_type": "stream",
     "text": [
      "/opt/conda/lib/python3.11/site-packages/pyspark/pandas/__init__.py:50: UserWarning: 'PYARROW_IGNORE_TIMEZONE' environment variable was not set. It is required to set this environment variable to '1' in both driver and executor sides if you use pyarrow>=2.0.0. pandas-on-Spark will set it for you but it does not work if there is a Spark context already launched.\n",
      "  warnings.warn(\n"
     ]
    }
   ],
   "source": [
    "import ipywidgets as widgets\n",
    "import matplotlib.pyplot as plt\n",
    "import pyspark.pandas as ps\n",
    "import seaborn as sns\n",
    "\n",
    "from matplotlib import dates\n",
    "from pyspark.sql.functions import col, to_date\n",
    "from pyspark.sql.avro.functions import *\n",
    "#\n",
    "# Nome da aplicação Spark\n",
    "#\n",
    "APP_NAME=\"GerarBronze\"\n",
    "ps.options.display.max_rows = 10"
   ]
  },
  {
   "cell_type": "code",
   "execution_count": 2,
   "id": "9d1179e3-e220-4206-a7cd-72bbe227da27",
   "metadata": {},
   "outputs": [],
   "source": [
    "%run StartSpark.ipynb"
   ]
  },
  {
   "cell_type": "code",
   "execution_count": 3,
   "id": "f1912445-960a-48d8-bd8b-2161e83b386a",
   "metadata": {},
   "outputs": [],
   "source": [
    "%config SqlMagic.lazy_execution = True"
   ]
  },
  {
   "cell_type": "code",
   "execution_count": 4,
   "id": "eccbed15-f1cf-498d-b45c-a8f2ee5b0287",
   "metadata": {},
   "outputs": [],
   "source": [
    "%sql spark"
   ]
  },
  {
   "cell_type": "code",
   "execution_count": 5,
   "id": "d3205f96-4dfd-4eb4-934b-b6e0391ee00c",
   "metadata": {},
   "outputs": [],
   "source": [
    "schema = \"\"\"\n",
    "    {\n",
    "        \"type\": \"record\",\n",
    "        \"name\": \"Stock\",\n",
    "        \"fields\": [\n",
    "            {\"name\": \"ticker\", \"type\": \"string\"},\n",
    "            {\"name\": \"timestamp\", \"type\": \"string\"},\n",
    "            {\"name\": \"open\", \"type\": \"double\"},\n",
    "            {\"name\": \"high\", \"type\": \"double\"},\n",
    "            {\"name\": \"low\", \"type\": \"double\"},\n",
    "            {\"name\": \"close\", \"type\": \"double\"},\n",
    "            {\"name\": \"volume\", \"type\": \"long\"}\n",
    "        ]\n",
    "    }\n",
    "\"\"\""
   ]
  },
  {
   "cell_type": "markdown",
   "id": "5b6dd65b-f67e-4c32-b8e1-584e5359385e",
   "metadata": {},
   "source": [
    "# FK"
   ]
  },
  {
   "cell_type": "code",
   "execution_count": 6,
   "id": "2add884e-d9b6-4dd9-b87b-4f0b6e6f164e",
   "metadata": {
    "editable": true,
    "slideshow": {
     "slide_type": ""
    },
    "tags": []
   },
   "outputs": [],
   "source": [
    "tabela = \"s3a://nemesys-demo1/lakehouse/bronze/stocks_intraday\"\n",
    "checkpoint = \"s3a://nemesys-demo1/lakehouse/bronze/checkpoint/stocks_intraday\"\n",
    "offset = \"latest\""
   ]
  },
  {
   "cell_type": "code",
   "execution_count": 7,
   "id": "1ffdf670-4f58-4fa2-98c8-489d124fcf14",
   "metadata": {},
   "outputs": [],
   "source": [
    "# (spark\n",
    "#     .readStream\n",
    "#     .format(\"kafka\")\n",
    "#     .option(\"kafka.bootstrap.servers\", KAFKA_BOOTSTRAP)\n",
    "#     .option(\"subscribe\", KAFKA_TOPIC)\n",
    "#     .option(\"startingOffsets\", offset)\n",
    "#     # .option(\"security.protocol\", \"SSL\")\n",
    "#     .load()\n",
    "#     .select(from_avro(col(\"value\"), schema).alias(\"value\"))\n",
    "#     .select(\"value.*\")\n",
    "#     .writeStream\n",
    "#     .format('delta')\n",
    "#     .outputMode('append')\n",
    "#     .option('mergeSchema', 'true')\n",
    "#     .option('checkpointLocation', checkpoint)\n",
    "#     .trigger(once=True)\n",
    "#     .start(tabela)\n",
    "#     .awaitTermination()\n",
    "# )    "
   ]
  },
  {
   "cell_type": "code",
   "execution_count": 12,
   "id": "5a59018b-3170-4c07-b157-843d7db1d190",
   "metadata": {},
   "outputs": [
    {
     "name": "stdout",
     "output_type": "stream",
     "text": [
      "CPU times: user 4.02 ms, sys: 0 ns, total: 4.02 ms\n",
      "Wall time: 1.29 s\n"
     ]
    }
   ],
   "source": [
    "%%time\n",
    "df = (spark.read.format(\"delta\").load(tabela))"
   ]
  },
  {
   "cell_type": "code",
   "execution_count": 20,
   "id": "68ca5c20-bdd1-42e8-be5e-93b7ceef7b33",
   "metadata": {},
   "outputs": [
    {
     "name": "stdout",
     "output_type": "stream",
     "text": [
      "CPU times: user 65.8 ms, sys: 15.2 ms, total: 81 ms\n",
      "Wall time: 2min 46s\n"
     ]
    },
    {
     "data": {
      "text/plain": [
       "11982387"
      ]
     },
     "execution_count": 20,
     "metadata": {},
     "output_type": "execute_result"
    }
   ],
   "source": [
    "%%time\n",
    "df.count()"
   ]
  },
  {
   "cell_type": "markdown",
   "id": "5ad3512c-6a50-4bba-a7b1-ae4960abc771",
   "metadata": {},
   "source": [
    "7.452.135\n",
    "11.126.251\n",
    "11.172.507\n",
    "11.210.353\n",
    "11.982.387"
   ]
  },
  {
   "cell_type": "code",
   "execution_count": 10,
   "id": "1efbe043-7bc5-4223-b623-61bc3183502b",
   "metadata": {},
   "outputs": [
    {
     "name": "stdout",
     "output_type": "stream",
     "text": [
      "root\n",
      " |-- ticker: string (nullable = true)\n",
      " |-- timestamp: string (nullable = true)\n",
      " |-- open: double (nullable = true)\n",
      " |-- high: double (nullable = true)\n",
      " |-- low: double (nullable = true)\n",
      " |-- close: double (nullable = true)\n",
      " |-- volume: long (nullable = true)\n",
      "\n"
     ]
    }
   ],
   "source": [
    "df.printSchema()"
   ]
  },
  {
   "cell_type": "code",
   "execution_count": 14,
   "id": "0b4a0022-ab53-4d0c-80a6-d34fe526bee0",
   "metadata": {},
   "outputs": [
    {
     "name": "stdout",
     "output_type": "stream",
     "text": [
      "+----------+------+------+\n",
      "|       dia|ticker| count|\n",
      "+----------+------+------+\n",
      "|2024-06-18|  TSLA| 13141|\n",
      "|2024-06-18|    NU| 12765|\n",
      "|2024-06-18|  MSFT| 12601|\n",
      "|2024-06-18|  GOOG| 11869|\n",
      "|2024-06-18|  AMZN| 13194|\n",
      "|2024-06-18|  AAPL| 13176|\n",
      "|2024-06-17|  TSLA|169398|\n",
      "|2024-06-17|    NU|134679|\n",
      "|2024-06-17|  MSFT|159473|\n",
      "|2024-06-17|  GOOG|138308|\n",
      "|2024-06-17|  AMZN|167867|\n",
      "|2024-06-17|  AAPL|169343|\n",
      "|2024-06-14|  TSLA|166311|\n",
      "|2024-06-14|    NU|133578|\n",
      "|2024-06-14|  MSFT|144866|\n",
      "|2024-06-14|  GOOG|132321|\n",
      "|2024-06-14|  AMZN|157500|\n",
      "|2024-06-14|  AAPL|168288|\n",
      "|2024-06-13|  TSLA|168139|\n",
      "|2024-06-13|    NU|148260|\n",
      "|2024-06-13|  MSFT|146963|\n",
      "|2024-06-13|  GOOG|120088|\n",
      "|2024-06-13|  AMZN|166279|\n",
      "|2024-06-13|  AAPL|169379|\n",
      "|2024-06-12|  TSLA|169413|\n",
      "|2024-06-12|    NU|153559|\n",
      "|2024-06-12|  MSFT|162654|\n",
      "|2024-06-12|  GOOG|138339|\n",
      "|2024-06-12|  AMZN|161484|\n",
      "|2024-06-12|  AAPL|169299|\n",
      "|2024-06-11|  TSLA|166108|\n",
      "|2024-06-11|    NU|148419|\n",
      "|2024-06-11|  MSFT|149585|\n",
      "|2024-06-11|  GOOG|111929|\n",
      "|2024-06-11|  AMZN|166109|\n",
      "|2024-06-11|  AAPL|169298|\n",
      "|2024-06-10|  TSLA|157050|\n",
      "|2024-06-10|    NU|113494|\n",
      "|2024-06-10|  MSFT|145953|\n",
      "|2024-06-10|  GOOG|149846|\n",
      "|2024-06-10|  AMZN|164292|\n",
      "|2024-06-10|  AAPL|169377|\n",
      "|2024-06-07|  TSLA|160856|\n",
      "|2024-06-07|    NU|151311|\n",
      "|2024-06-07|  MSFT|138581|\n",
      "|2024-06-07|  GOOG|126096|\n",
      "|2024-06-07|  AMZN|148780|\n",
      "|2024-06-07|  AAPL|169410|\n",
      "|2024-06-06|  TSLA|164707|\n",
      "|2024-06-06|    NU|136071|\n",
      "|2024-06-06|  MSFT|147242|\n",
      "|2024-06-06|  GOOG|140601|\n",
      "|2024-06-06|  AMZN|162044|\n",
      "|2024-06-06|  AAPL|168775|\n",
      "|2024-06-05|  TSLA|162644|\n",
      "|2024-06-05|    NU|134642|\n",
      "|2024-06-05|  MSFT|149182|\n",
      "|2024-06-05|  GOOG|136438|\n",
      "|2024-06-05|  AMZN|163786|\n",
      "|2024-06-05|  AAPL|167241|\n",
      "|2024-06-04|  TSLA|161277|\n",
      "|2024-06-04|    NU|155719|\n",
      "|2024-06-04|  MSFT|136120|\n",
      "|2024-06-04|  GOOG|128779|\n",
      "|2024-06-04|  AMZN|167086|\n",
      "|2024-06-04|  AAPL|165656|\n",
      "|2024-06-03|  TSLA|148997|\n",
      "|2024-06-03|    NU|139968|\n",
      "|2024-06-03|  MSFT|141475|\n",
      "|2024-06-03|  GOOG|139363|\n",
      "|2024-06-03|  AMZN|147964|\n",
      "|2024-06-03|  AAPL|156321|\n",
      "|2024-05-31|  TSLA|156401|\n",
      "|2024-05-31|    NU|152862|\n",
      "|2024-05-31|  MSFT|159886|\n",
      "|2024-05-31|  GOOG|159759|\n",
      "|2024-05-31|  AMZN|167550|\n",
      "|2024-05-31|  AAPL|169130|\n",
      "|2024-05-29|  TSLA|   370|\n",
      "|2024-05-29|    NU|   371|\n",
      "|2024-05-29|  MSFT|   346|\n",
      "|2024-05-29|  GOOG|   322|\n",
      "|2024-05-29|  AMZN|   375|\n",
      "|2024-05-29|  AAPL|   386|\n",
      "|2024-05-28|  TSLA|   368|\n",
      "|2024-05-28|    NU|   345|\n",
      "|2024-05-28|  MSFT|   342|\n",
      "|2024-05-28|  GOOG|   330|\n",
      "|2024-05-28|  AMZN|   384|\n",
      "|2024-05-28|  AAPL|   387|\n",
      "|2024-05-24|  TSLA|   366|\n",
      "|2024-05-24|    NU|   295|\n",
      "|2024-05-24|  MSFT|   295|\n",
      "|2024-05-24|  GOOG|   319|\n",
      "|2024-05-24|  AMZN|   377|\n",
      "|2024-05-24|  AAPL|   379|\n",
      "|2024-05-23|  TSLA|   382|\n",
      "|2024-05-23|    NU|   306|\n",
      "|2024-05-23|  MSFT|   330|\n",
      "|2024-05-23|  GOOG|   317|\n",
      "+----------+------+------+\n",
      "only showing top 100 rows\n",
      "\n",
      "CPU times: user 31.5 ms, sys: 7.76 ms, total: 39.2 ms\n",
      "Wall time: 1min 9s\n"
     ]
    }
   ],
   "source": [
    "%%time\n",
    "(df\n",
    ".withColumn(\"dia\",to_date(\"timestamp\"))\n",
    ".groupBy(\"dia\", \"ticker\")\n",
    ".count()\n",
    ".orderBy(\"dia\", \"ticker\", ascending=False)\n",
    ".show(n=100)\n",
    ")"
   ]
  },
  {
   "cell_type": "code",
   "execution_count": 15,
   "id": "f6ca4ffa-710d-4883-89a6-eecba0e4de22",
   "metadata": {},
   "outputs": [
    {
     "name": "stdout",
     "output_type": "stream",
     "text": [
      "+----------+------+-----+\n",
      "|       dia|ticker|count|\n",
      "+----------+------+-----+\n",
      "|2024-06-18|  TSLA|  235|\n",
      "|2024-06-18|    NU|  186|\n",
      "|2024-06-18|  MSFT|  216|\n",
      "|2024-06-18|  GOOG|  177|\n",
      "|2024-06-18|  AMZN|  229|\n",
      "|2024-06-18|  AAPL|  253|\n",
      "|2024-06-17|  TSLA|  583|\n",
      "|2024-06-17|    NU|  367|\n",
      "|2024-06-17|  MSFT|  530|\n",
      "|2024-06-17|  GOOG|  386|\n",
      "|2024-06-17|  AMZN|  581|\n",
      "|2024-06-17|  AAPL|  586|\n",
      "|2024-06-14|  TSLA|  571|\n",
      "|2024-06-14|    NU|  365|\n",
      "|2024-06-14|  MSFT|  435|\n",
      "|2024-06-14|  GOOG|  357|\n",
      "|2024-06-14|  AMZN|  495|\n",
      "|2024-06-14|  AAPL|  595|\n",
      "|2024-06-13|  TSLA|  527|\n",
      "|2024-06-13|    NU|  398|\n",
      "|2024-06-13|  MSFT|  464|\n",
      "|2024-06-13|  GOOG|  325|\n",
      "|2024-06-13|  AMZN|  533|\n",
      "|2024-06-13|  AAPL|  630|\n",
      "|2024-06-12|  TSLA|  619|\n",
      "|2024-06-12|    NU|  442|\n",
      "|2024-06-12|  MSFT|  545|\n",
      "|2024-06-12|  GOOG|  413|\n",
      "|2024-06-12|  AMZN|  529|\n",
      "|2024-06-12|  AAPL|  558|\n",
      "|2024-06-11|  TSLA|  521|\n",
      "|2024-06-11|    NU|  399|\n",
      "|2024-06-11|  MSFT|  477|\n",
      "|2024-06-11|  GOOG|  304|\n",
      "|2024-06-11|  AMZN|  550|\n",
      "|2024-06-11|  AAPL|  547|\n",
      "|2024-06-10|  TSLA|  472|\n",
      "|2024-06-10|    NU|  292|\n",
      "|2024-06-10|  MSFT|  461|\n",
      "|2024-06-10|  GOOG|  449|\n",
      "|2024-06-10|  AMZN|  491|\n",
      "|2024-06-10|  AAPL|  636|\n",
      "|2024-06-07|  TSLA|  515|\n",
      "|2024-06-07|    NU|  440|\n",
      "|2024-06-07|  MSFT|  455|\n",
      "|2024-06-07|  GOOG|  343|\n",
      "|2024-06-07|  AMZN|  460|\n",
      "|2024-06-07|  AAPL|  594|\n",
      "|2024-06-06|  TSLA|  561|\n",
      "|2024-06-06|    NU|  364|\n",
      "|2024-06-06|  MSFT|  447|\n",
      "|2024-06-06|  GOOG|  384|\n",
      "|2024-06-06|  AMZN|  557|\n",
      "|2024-06-06|  AAPL|  544|\n",
      "|2024-06-05|  TSLA|  526|\n",
      "|2024-06-05|    NU|  389|\n",
      "|2024-06-05|  MSFT|  492|\n",
      "|2024-06-05|  GOOG|  400|\n",
      "|2024-06-05|  AMZN|  552|\n",
      "|2024-06-05|  AAPL|  590|\n",
      "|2024-06-04|  TSLA|  520|\n",
      "|2024-06-04|    NU|  448|\n",
      "|2024-06-04|  MSFT|  428|\n",
      "|2024-06-04|  GOOG|  347|\n",
      "|2024-06-04|  AMZN|  563|\n",
      "|2024-06-04|  AAPL|  549|\n",
      "|2024-06-03|  TSLA|  452|\n",
      "|2024-06-03|    NU|  389|\n",
      "|2024-06-03|  MSFT|  435|\n",
      "|2024-06-03|  GOOG|  393|\n",
      "|2024-06-03|  AMZN|  464|\n",
      "|2024-06-03|  AAPL|  499|\n",
      "|2024-05-31|  TSLA|  502|\n",
      "|2024-05-31|    NU|  439|\n",
      "|2024-05-31|  MSFT|  528|\n",
      "|2024-05-31|  GOOG|  503|\n",
      "|2024-05-31|  AMZN|  581|\n",
      "|2024-05-31|  AAPL|  605|\n",
      "|2024-05-29|  TSLA|  370|\n",
      "|2024-05-29|    NU|  371|\n",
      "|2024-05-29|  MSFT|  346|\n",
      "|2024-05-29|  GOOG|  322|\n",
      "|2024-05-29|  AMZN|  375|\n",
      "|2024-05-29|  AAPL|  386|\n",
      "|2024-05-28|  TSLA|  368|\n",
      "|2024-05-28|    NU|  345|\n",
      "|2024-05-28|  MSFT|  342|\n",
      "|2024-05-28|  GOOG|  330|\n",
      "|2024-05-28|  AMZN|  384|\n",
      "|2024-05-28|  AAPL|  387|\n",
      "|2024-05-24|  TSLA|  366|\n",
      "|2024-05-24|    NU|  295|\n",
      "|2024-05-24|  MSFT|  295|\n",
      "|2024-05-24|  GOOG|  319|\n",
      "|2024-05-24|  AMZN|  377|\n",
      "|2024-05-24|  AAPL|  379|\n",
      "|2024-05-23|  TSLA|  382|\n",
      "|2024-05-23|    NU|  306|\n",
      "|2024-05-23|  MSFT|  330|\n",
      "|2024-05-23|  GOOG|  317|\n",
      "+----------+------+-----+\n",
      "only showing top 100 rows\n",
      "\n",
      "CPU times: user 46.6 ms, sys: 358 µs, total: 47 ms\n",
      "Wall time: 1min 25s\n"
     ]
    }
   ],
   "source": [
    "%%time\n",
    "(df\n",
    ".dropDuplicates()\n",
    ".withColumn(\"dia\",to_date(\"timestamp\"))\n",
    ".groupBy(\"dia\", \"ticker\")\n",
    ".count()\n",
    ".orderBy(\"dia\", \"ticker\", ascending=False)\n",
    ".show(n=100)\n",
    ")"
   ]
  },
  {
   "cell_type": "code",
   "execution_count": null,
   "id": "4f0cf47c-f3b1-4abb-be39-50ffd080dddb",
   "metadata": {},
   "outputs": [],
   "source": []
  }
 ],
 "metadata": {
  "kernelspec": {
   "display_name": "Python 3 (ipykernel)",
   "language": "python",
   "name": "python3"
  },
  "language_info": {
   "codemirror_mode": {
    "name": "ipython",
    "version": 3
   },
   "file_extension": ".py",
   "mimetype": "text/x-python",
   "name": "python",
   "nbconvert_exporter": "python",
   "pygments_lexer": "ipython3",
   "version": "3.11.8"
  }
 },
 "nbformat": 4,
 "nbformat_minor": 5
}

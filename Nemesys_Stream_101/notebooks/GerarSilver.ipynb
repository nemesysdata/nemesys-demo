{
 "cells": [
  {
   "cell_type": "markdown",
   "id": "a4474b0d-9e5b-480e-96dc-41bc53480b21",
   "metadata": {},
   "source": [
    "# Gerar Silver"
   ]
  },
  {
   "cell_type": "code",
   "execution_count": 1,
   "id": "ccf51d1c-cba9-4cd1-805b-24b061c375a7",
   "metadata": {},
   "outputs": [],
   "source": [
    "import os\n",
    "os.environ[\"PYARROW_IGNORE_TIMEZONE\"] = \"1\""
   ]
  },
  {
   "cell_type": "code",
   "execution_count": 2,
   "id": "e45722d8-f82a-4c39-ac29-ee6dc3c70e25",
   "metadata": {},
   "outputs": [],
   "source": [
    "import ipywidgets as widgets\n",
    "import matplotlib.pyplot as plt\n",
    "import pyspark.pandas as ps\n",
    "import seaborn as sns\n",
    "\n",
    "from delta import *\n",
    "\n",
    "from matplotlib import dates\n",
    "from pyspark.sql.avro.functions import *\n",
    "from pyspark.sql.functions import col, to_date, date_format, current_timestamp, lag, to_timestamp, when, lit\n",
    "from pyspark.sql.types import StringType, DateType, StructType, DoubleType, IntegerType, LongType, TimestampType\n",
    "from pyspark.sql.window import Window\n",
    "#\n",
    "# Nome da aplicação Spark\n",
    "#\n",
    "APP_NAME=\"GerarBronze\"\n",
    "ps.options.display.max_rows = 10"
   ]
  },
  {
   "cell_type": "code",
   "execution_count": 3,
   "id": "9d1179e3-e220-4206-a7cd-72bbe227da27",
   "metadata": {},
   "outputs": [],
   "source": [
    "%run StartSpark.ipynb"
   ]
  },
  {
   "cell_type": "code",
   "execution_count": 4,
   "id": "f1912445-960a-48d8-bd8b-2161e83b386a",
   "metadata": {},
   "outputs": [],
   "source": [
    "%config SqlMagic.lazy_execution = True"
   ]
  },
  {
   "cell_type": "code",
   "execution_count": 5,
   "id": "eccbed15-f1cf-498d-b45c-a8f2ee5b0287",
   "metadata": {},
   "outputs": [],
   "source": [
    "%sql spark"
   ]
  },
  {
   "cell_type": "markdown",
   "id": "5b6dd65b-f67e-4c32-b8e1-584e5359385e",
   "metadata": {},
   "source": [
    "# FK"
   ]
  },
  {
   "cell_type": "code",
   "execution_count": 6,
   "id": "0f3484c8-1e3b-43f9-9340-e7d88d8b6c2d",
   "metadata": {},
   "outputs": [],
   "source": [
    "from urllib.parse import urlparse\n",
    "\n",
    "def delta_exists(delta_path, tier, table):\n",
    "    url = urlparse(delta_path)\n",
    "\n",
    "    match url:\n",
    "        case \"abfss\":\n",
    "            print(\"Blob Storage\")\n",
    "        case \"s3\":\n",
    "                pass\n",
    "        case \"s3a\":\n",
    "            print(\"S3 Compatible\")\n",
    "    "
   ]
  },
  {
   "cell_type": "code",
   "execution_count": 7,
   "id": "adedb382-ef23-4fc9-92d9-96c3bf24ae9d",
   "metadata": {},
   "outputs": [],
   "source": [
    "from urllib.parse import urlparse\n",
    "\n",
    "def delta_exists(delta_path, tier, table):\n",
    "  \"\"\"\n",
    "  Checks if the provided delta path points to a supported storage type.\n",
    "\n",
    "  Args:\n",
    "      delta_path (str): The URL or path to the delta data.\n",
    "      tier (str): Optional tier information (may not be used).\n",
    "      table (str): Optional table name (may not be used).\n",
    "\n",
    "  Returns:\n",
    "      str: A string indicating the storage type (\"Blob Storage\" or \"S3 Compatible\")\n",
    "          or None if the storage type is not supported.\n",
    "  \"\"\"\n",
    "\n",
    "  url = urlparse(delta_path)\n",
    "  match url.scheme:\n",
    "      case \"abfss\":\n",
    "          return \"Blob Storage\"\n",
    "      case \"s3\" | \"s3a\":  # Combine S3 and S3A cases for efficiency\n",
    "          return \"S3 Compatible\"\n",
    "      case _:\n",
    "          return None  # Return None for unsupported schemes\n",
    "\n",
    "  # Unreachable code, but included for clarity\n",
    "  # return None  # Redundant return statement here"
   ]
  },
  {
   "cell_type": "code",
   "execution_count": 8,
   "id": "784256cd-8491-4a4b-99da-ff3847dfa7a0",
   "metadata": {},
   "outputs": [],
   "source": [
    "def table_path(bucket:str, tier:str, table_name:str, storage:str=\"s3a\", base_dir:str=\"lakehouse\"):\n",
    "    # if len(tier.strip()) == 0:\n",
    "    #     raise ValueError(\"Tier cannot be empty\")\n",
    "\n",
    "    path = f\"{storage}://{bucket}/{base_dir}/{tier}/{table_name}\"\n",
    "    return path, path + \"/_checkpoint/\""
   ]
  },
  {
   "cell_type": "code",
   "execution_count": 9,
   "id": "a8760935-6c4d-4656-856e-de95b4ce5d1c",
   "metadata": {},
   "outputs": [],
   "source": [
    "stock_bronze, stock_bronze_checkpoint_dir = table_path(\"nemesys-demo1\", \"bronze\", \"stocks_intraday\")\n",
    "stock_silver, stock_silver_checkpoint_dir = table_path(\"nemesys-demo1\", \"silver\", \"stocks_intraday\")\n",
    "stock_dup_silver = stock_silver + \"_dup\"\n",
    "stock_dup_silver_checkpoint_dir = stock_dup_silver + \"/_checkpoint/\""
   ]
  },
  {
   "cell_type": "code",
   "execution_count": 10,
   "id": "244d867f-a3e3-4d36-9b5b-d51d86b07584",
   "metadata": {},
   "outputs": [
    {
     "name": "stdout",
     "output_type": "stream",
     "text": [
      "s3a://nemesys-demo1/lakehouse/bronze/stocks_intraday s3a://nemesys-demo1/lakehouse/bronze/stocks_intraday/_checkpoint/\n",
      "s3a://nemesys-demo1/lakehouse/silver/stocks_intraday s3a://nemesys-demo1/lakehouse/silver/stocks_intraday/_checkpoint/\n",
      "s3a://nemesys-demo1/lakehouse/silver/stocks_intraday_dup s3a://nemesys-demo1/lakehouse/silver/stocks_intraday_dup/_checkpoint/\n"
     ]
    }
   ],
   "source": [
    "print(stock_bronze, stock_bronze_checkpoint_dir)\n",
    "print(stock_silver, stock_silver_checkpoint_dir)\n",
    "print(stock_dup_silver, stock_dup_silver_checkpoint_dir)"
   ]
  },
  {
   "cell_type": "code",
   "execution_count": 11,
   "id": "862671be-90d1-496f-998c-23b5e93b67e0",
   "metadata": {},
   "outputs": [],
   "source": [
    "# spark.sql(f\"\"\"\n",
    "# create table stock_intraday (\n",
    "#     ticker string,\n",
    "#     timestamp string,\n",
    "#     open double,\n",
    "#     high double,\n",
    "#     low double,\n",
    "#     close double,\n",
    "#     volume long\n",
    "# )\n",
    "# using delta location '{stock_dup_silver}'\n",
    "# \"\"\")"
   ]
  },
  {
   "cell_type": "code",
   "execution_count": 12,
   "id": "f01629b4-9ef0-4046-b8cd-8e78b7ede74e",
   "metadata": {},
   "outputs": [
    {
     "name": "stdout",
     "output_type": "stream",
     "text": [
      "Criar tabela\n"
     ]
    }
   ],
   "source": [
    "if not DeltaTable.isDeltaTable(spark, stock_silver):\n",
    "    print(\"Criar tabela\")\n",
    "    schema = (StructType()\n",
    "        .add(\"ticker\", StringType())\n",
    "        .add('ano', IntegerType())\n",
    "        .add(\"timestamp\", TimestampType())\n",
    "        .add(\"open\", DoubleType())\n",
    "        .add(\"high\", DoubleType())\n",
    "        .add(\"low\", DoubleType())\n",
    "        .add(\"close\", DoubleType())\n",
    "        .add(\"volume\", LongType())\n",
    "        .add(\"_capture_time_kafka\", TimestampType())\n",
    "        .add(\"_capture_time_bronze\", TimestampType())\n",
    "        .add(\"_capture_time_silver\", TimestampType())\n",
    "    )\n",
    "    emptyDF = spark.createDataFrame(spark.sparkContext.emptyRDD(), schema)\n",
    "    emptyDF.write.format('delta').mode('overwrite').partitionBy(\"ticker\", \"ano\").save(stock_silver)\n",
    "\n",
    "deltaTable = DeltaTable.forPath(spark, stock_silver)"
   ]
  },
  {
   "cell_type": "code",
   "execution_count": 13,
   "id": "d3a9ebd0-6ee4-462c-a29b-b65bf6d9c022",
   "metadata": {},
   "outputs": [
    {
     "name": "stdout",
     "output_type": "stream",
     "text": [
      "CPU times: user 21.2 ms, sys: 1.11 ms, total: 22.3 ms\n",
      "Wall time: 35.4 s\n"
     ]
    }
   ],
   "source": [
    "%%time\n",
    "(spark\n",
    "    .readStream\n",
    "    .format(\"delta\")\n",
    "    .option('startingOffsets', 'earliest')\n",
    "    .load(stock_bronze)\n",
    "    .withColumn(\"_capture_time_silver\", current_timestamp())\n",
    "    .writeStream\n",
    "    .format('delta')\n",
    "    .outputMode('append')\n",
    "    .option('mergeSchema', 'true')\n",
    "    .option('checkpointLocation', stock_bronze_checkpoint_dir + \"silver_dup\")\n",
    "    .trigger(once=True)\n",
    "    .start(stock_dup_silver)\n",
    "    .awaitTermination()\n",
    ")"
   ]
  },
  {
   "cell_type": "code",
   "execution_count": 14,
   "id": "b865da52-e10d-47e7-8a60-876bc5261882",
   "metadata": {},
   "outputs": [],
   "source": [
    "def config_upsert(delta):\n",
    "    def upsertToDelta(microbatchdf, batchId):\n",
    "        print(f'Batch {batchId} com {microbatchdf.count()} linhas')\n",
    "        # Verificar e remover duplicatas no microbatch\n",
    "        microbatchdf_clean = microbatchdf.dropDuplicates([\"ticker\", \"timestamp\"])\n",
    "        \n",
    "        # Garantir que os campos estejam no mesmo formato\n",
    "        microbatchdf_clean = microbatchdf_clean.withColumn(\"ticker\", col(\"ticker\").cast(\"string\"))\n",
    "        microbatchdf_clean = microbatchdf_clean.withColumn(\"timestamp\", col(\"timestamp\").cast(\"timestamp\"))\n",
    "        \n",
    "        delta.alias(\"t\").merge(\n",
    "          microbatchdf_clean.alias(\"s\"),\n",
    "          \"s.ticker = t.ticker and s.timestamp = t.timestamp\") \\\n",
    "        .whenMatchedUpdateAll() \\\n",
    "        .whenNotMatchedInsertAll() \\\n",
    "        .execute()\n",
    "        print(f'Exportadas {microbatchdf_clean.count()} linhas')\n",
    "        \n",
    "    return upsertToDelta"
   ]
  },
  {
   "cell_type": "code",
   "execution_count": 15,
   "id": "2abb210b-e1db-495a-926a-778521192816",
   "metadata": {},
   "outputs": [
    {
     "name": "stdout",
     "output_type": "stream",
     "text": [
      "Batch 0 com 4397528 linhas\n",
      "Exportadas 11148 linhas\n",
      "CPU times: user 26.2 ms, sys: 20.2 ms, total: 46.3 ms\n",
      "Wall time: 56.5 s\n"
     ]
    }
   ],
   "source": [
    "%%time\n",
    "(spark\n",
    "    .readStream\n",
    "    .format(\"delta\")\n",
    "    .option('startingOffsets', 'earliest')\n",
    "    .load(stock_bronze)\n",
    "    .withColumn('timestamp_real', to_timestamp(\"timestamp\"))\n",
    "    .withColumn('ano', date_format('timestamp', 'yyyy').cast(IntegerType()))\n",
    "    .withColumn(\"_capture_time_silver\", current_timestamp())\n",
    "    .writeStream\n",
    "    .format('delta')\n",
    "    .foreachBatch(config_upsert(deltaTable))\n",
    "    .outputMode('update')\n",
    "    .option('checkpointLocation', stock_bronze_checkpoint_dir + \"silver\")\n",
    "    .trigger(once=True)\n",
    "    .start()\n",
    "    .awaitTermination()\n",
    ")"
   ]
  },
  {
   "cell_type": "markdown",
   "id": "cdfe9fa5-a00e-4cb3-88d8-4809e47b3da2",
   "metadata": {},
   "source": [
    "## Avaliar processo"
   ]
  },
  {
   "cell_type": "code",
   "execution_count": 19,
   "id": "505ddcbe-0aff-497b-a72d-22745793382a",
   "metadata": {},
   "outputs": [],
   "source": [
    "df = spark.read.format(\"delta\").load(stock_silver)"
   ]
  },
  {
   "cell_type": "code",
   "execution_count": 20,
   "id": "c9059841-f2e4-4458-a4ca-cd964f184e1d",
   "metadata": {},
   "outputs": [
    {
     "name": "stdout",
     "output_type": "stream",
     "text": [
      "Count.........: 27790\n",
      "CPU times: user 2.69 ms, sys: 817 µs, total: 3.51 ms\n",
      "Wall time: 3.58 s\n"
     ]
    }
   ],
   "source": [
    "%%time\n",
    "print(\"Count.........:\", df.count())"
   ]
  },
  {
   "cell_type": "code",
   "execution_count": 21,
   "id": "987f73e5-527a-4251-939b-d0b8119aed63",
   "metadata": {},
   "outputs": [
    {
     "name": "stdout",
     "output_type": "stream",
     "text": [
      "CPU times: user 5.63 ms, sys: 0 ns, total: 5.63 ms\n",
      "Wall time: 2.83 s\n"
     ]
    },
    {
     "data": {
      "text/plain": [
       "27790"
      ]
     },
     "execution_count": 21,
     "metadata": {},
     "output_type": "execute_result"
    }
   ],
   "source": [
    "%%time\n",
    "df.dropDuplicates([\"ticker\", \"timestamp\"]).count()"
   ]
  },
  {
   "cell_type": "code",
   "execution_count": 22,
   "id": "ac25b15b-b7ef-44ee-b0b2-42cbfe6a1ce4",
   "metadata": {},
   "outputs": [
    {
     "name": "stdout",
     "output_type": "stream",
     "text": [
      "root\n",
      " |-- ticker: string (nullable = true)\n",
      " |-- ano: integer (nullable = true)\n",
      " |-- timestamp: timestamp (nullable = true)\n",
      " |-- open: double (nullable = true)\n",
      " |-- high: double (nullable = true)\n",
      " |-- low: double (nullable = true)\n",
      " |-- close: double (nullable = true)\n",
      " |-- volume: long (nullable = true)\n",
      " |-- _capture_time_kafka: timestamp (nullable = true)\n",
      " |-- _capture_time_bronze: timestamp (nullable = true)\n",
      " |-- _capture_time_silver: timestamp (nullable = true)\n",
      "\n"
     ]
    }
   ],
   "source": [
    "df.printSchema()"
   ]
  },
  {
   "cell_type": "code",
   "execution_count": 23,
   "id": "43c647cc-ad07-4dcb-a894-576e7dc065df",
   "metadata": {},
   "outputs": [
    {
     "name": "stdout",
     "output_type": "stream",
     "text": [
      "CPU times: user 15.2 ms, sys: 857 µs, total: 16.1 ms\n",
      "Wall time: 65.7 ms\n"
     ]
    },
    {
     "data": {
      "text/html": [
       "<div>\n",
       "<style scoped>\n",
       "    .dataframe tbody tr th:only-of-type {\n",
       "        vertical-align: middle;\n",
       "    }\n",
       "\n",
       "    .dataframe tbody tr th {\n",
       "        vertical-align: top;\n",
       "    }\n",
       "\n",
       "    .dataframe thead th {\n",
       "        text-align: right;\n",
       "    }\n",
       "</style>\n",
       "<table border=\"1\" class=\"dataframe\">\n",
       "  <thead>\n",
       "    <tr style=\"text-align: right;\">\n",
       "      <th></th>\n",
       "      <th>ticker</th>\n",
       "      <th>ano</th>\n",
       "      <th>timestamp</th>\n",
       "      <th>open</th>\n",
       "      <th>high</th>\n",
       "      <th>low</th>\n",
       "      <th>close</th>\n",
       "      <th>volume</th>\n",
       "      <th>_capture_time_kafka</th>\n",
       "      <th>_capture_time_bronze</th>\n",
       "      <th>_capture_time_silver</th>\n",
       "    </tr>\n",
       "  </thead>\n",
       "  <tbody>\n",
       "    <tr>\n",
       "      <th>0</th>\n",
       "      <td>AAPL</td>\n",
       "      <td>2024</td>\n",
       "      <td>2024-06-27 13:31:00</td>\n",
       "      <td>214.830002</td>\n",
       "      <td>215.035004</td>\n",
       "      <td>214.729996</td>\n",
       "      <td>214.820007</td>\n",
       "      <td>372083</td>\n",
       "      <td>2024-06-27 23:59:05.720</td>\n",
       "      <td>2024-06-27 23:59:20.496</td>\n",
       "      <td>2024-06-27 23:59:32.920</td>\n",
       "    </tr>\n",
       "    <tr>\n",
       "      <th>1</th>\n",
       "      <td>AAPL</td>\n",
       "      <td>2024</td>\n",
       "      <td>2024-06-27 14:31:00</td>\n",
       "      <td>213.669998</td>\n",
       "      <td>213.804993</td>\n",
       "      <td>213.610001</td>\n",
       "      <td>213.789993</td>\n",
       "      <td>95609</td>\n",
       "      <td>2024-06-27 23:59:05.720</td>\n",
       "      <td>2024-06-27 23:59:20.496</td>\n",
       "      <td>2024-06-27 23:59:32.920</td>\n",
       "    </tr>\n",
       "    <tr>\n",
       "      <th>2</th>\n",
       "      <td>AAPL</td>\n",
       "      <td>2024</td>\n",
       "      <td>2024-06-27 14:32:00</td>\n",
       "      <td>213.794998</td>\n",
       "      <td>213.850006</td>\n",
       "      <td>213.690002</td>\n",
       "      <td>213.850006</td>\n",
       "      <td>132342</td>\n",
       "      <td>2024-06-27 23:59:05.720</td>\n",
       "      <td>2024-06-27 23:59:20.496</td>\n",
       "      <td>2024-06-27 23:59:32.920</td>\n",
       "    </tr>\n",
       "    <tr>\n",
       "      <th>3</th>\n",
       "      <td>AAPL</td>\n",
       "      <td>2024</td>\n",
       "      <td>2024-06-27 14:33:00</td>\n",
       "      <td>213.850006</td>\n",
       "      <td>213.939697</td>\n",
       "      <td>213.759995</td>\n",
       "      <td>213.789993</td>\n",
       "      <td>139063</td>\n",
       "      <td>2024-06-27 23:59:05.720</td>\n",
       "      <td>2024-06-27 23:59:20.496</td>\n",
       "      <td>2024-06-27 23:59:32.920</td>\n",
       "    </tr>\n",
       "    <tr>\n",
       "      <th>4</th>\n",
       "      <td>AAPL</td>\n",
       "      <td>2024</td>\n",
       "      <td>2024-06-27 14:34:00</td>\n",
       "      <td>213.779999</td>\n",
       "      <td>213.783997</td>\n",
       "      <td>213.669998</td>\n",
       "      <td>213.710007</td>\n",
       "      <td>153720</td>\n",
       "      <td>2024-06-27 23:59:05.720</td>\n",
       "      <td>2024-06-27 23:59:20.496</td>\n",
       "      <td>2024-06-27 23:59:32.920</td>\n",
       "    </tr>\n",
       "    <tr>\n",
       "      <th>5</th>\n",
       "      <td>AAPL</td>\n",
       "      <td>2024</td>\n",
       "      <td>2024-06-27 14:35:00</td>\n",
       "      <td>213.699997</td>\n",
       "      <td>213.699997</td>\n",
       "      <td>213.399994</td>\n",
       "      <td>213.399994</td>\n",
       "      <td>146203</td>\n",
       "      <td>2024-06-27 23:59:05.720</td>\n",
       "      <td>2024-06-27 23:59:20.496</td>\n",
       "      <td>2024-06-27 23:59:32.920</td>\n",
       "    </tr>\n",
       "    <tr>\n",
       "      <th>6</th>\n",
       "      <td>AAPL</td>\n",
       "      <td>2024</td>\n",
       "      <td>2024-06-27 14:36:00</td>\n",
       "      <td>213.399994</td>\n",
       "      <td>213.710007</td>\n",
       "      <td>213.399994</td>\n",
       "      <td>213.679993</td>\n",
       "      <td>210017</td>\n",
       "      <td>2024-06-27 23:59:05.720</td>\n",
       "      <td>2024-06-27 23:59:20.496</td>\n",
       "      <td>2024-06-27 23:59:32.920</td>\n",
       "    </tr>\n",
       "    <tr>\n",
       "      <th>7</th>\n",
       "      <td>AAPL</td>\n",
       "      <td>2024</td>\n",
       "      <td>2024-06-27 14:37:00</td>\n",
       "      <td>213.669998</td>\n",
       "      <td>213.690002</td>\n",
       "      <td>213.529999</td>\n",
       "      <td>213.580002</td>\n",
       "      <td>113738</td>\n",
       "      <td>2024-06-27 23:59:05.720</td>\n",
       "      <td>2024-06-27 23:59:20.496</td>\n",
       "      <td>2024-06-27 23:59:32.920</td>\n",
       "    </tr>\n",
       "    <tr>\n",
       "      <th>8</th>\n",
       "      <td>AAPL</td>\n",
       "      <td>2024</td>\n",
       "      <td>2024-06-27 14:38:00</td>\n",
       "      <td>213.580002</td>\n",
       "      <td>213.710007</td>\n",
       "      <td>213.580002</td>\n",
       "      <td>213.703995</td>\n",
       "      <td>93405</td>\n",
       "      <td>2024-06-27 23:59:05.720</td>\n",
       "      <td>2024-06-27 23:59:20.496</td>\n",
       "      <td>2024-06-27 23:59:32.920</td>\n",
       "    </tr>\n",
       "    <tr>\n",
       "      <th>9</th>\n",
       "      <td>AAPL</td>\n",
       "      <td>2024</td>\n",
       "      <td>2024-06-27 14:39:00</td>\n",
       "      <td>213.705002</td>\n",
       "      <td>213.899994</td>\n",
       "      <td>213.695007</td>\n",
       "      <td>213.889999</td>\n",
       "      <td>111381</td>\n",
       "      <td>2024-06-27 23:59:05.720</td>\n",
       "      <td>2024-06-27 23:59:20.496</td>\n",
       "      <td>2024-06-27 23:59:32.920</td>\n",
       "    </tr>\n",
       "  </tbody>\n",
       "</table>\n",
       "<p>Showing only the first 10 rows × 11 columns</p>\n",
       "</div>"
      ],
      "text/plain": [
       "  ticker   ano           timestamp        open        high         low       close  volume     _capture_time_kafka    _capture_time_bronze    _capture_time_silver\n",
       "0   AAPL  2024 2024-06-27 13:31:00  214.830002  215.035004  214.729996  214.820007  372083 2024-06-27 23:59:05.720 2024-06-27 23:59:20.496 2024-06-27 23:59:32.920\n",
       "1   AAPL  2024 2024-06-27 14:31:00  213.669998  213.804993  213.610001  213.789993   95609 2024-06-27 23:59:05.720 2024-06-27 23:59:20.496 2024-06-27 23:59:32.920\n",
       "2   AAPL  2024 2024-06-27 14:32:00  213.794998  213.850006  213.690002  213.850006  132342 2024-06-27 23:59:05.720 2024-06-27 23:59:20.496 2024-06-27 23:59:32.920\n",
       "3   AAPL  2024 2024-06-27 14:33:00  213.850006  213.939697  213.759995  213.789993  139063 2024-06-27 23:59:05.720 2024-06-27 23:59:20.496 2024-06-27 23:59:32.920\n",
       "4   AAPL  2024 2024-06-27 14:34:00  213.779999  213.783997  213.669998  213.710007  153720 2024-06-27 23:59:05.720 2024-06-27 23:59:20.496 2024-06-27 23:59:32.920\n",
       "5   AAPL  2024 2024-06-27 14:35:00  213.699997  213.699997  213.399994  213.399994  146203 2024-06-27 23:59:05.720 2024-06-27 23:59:20.496 2024-06-27 23:59:32.920\n",
       "6   AAPL  2024 2024-06-27 14:36:00  213.399994  213.710007  213.399994  213.679993  210017 2024-06-27 23:59:05.720 2024-06-27 23:59:20.496 2024-06-27 23:59:32.920\n",
       "7   AAPL  2024 2024-06-27 14:37:00  213.669998  213.690002  213.529999  213.580002  113738 2024-06-27 23:59:05.720 2024-06-27 23:59:20.496 2024-06-27 23:59:32.920\n",
       "8   AAPL  2024 2024-06-27 14:38:00  213.580002  213.710007  213.580002  213.703995   93405 2024-06-27 23:59:05.720 2024-06-27 23:59:20.496 2024-06-27 23:59:32.920\n",
       "9   AAPL  2024 2024-06-27 14:39:00  213.705002  213.899994  213.695007  213.889999  111381 2024-06-27 23:59:05.720 2024-06-27 23:59:20.496 2024-06-27 23:59:32.920\n",
       "\n",
       "[Showing only the first 10 rows x 11 columns]"
      ]
     },
     "execution_count": 23,
     "metadata": {},
     "output_type": "execute_result"
    }
   ],
   "source": [
    "%%time\n",
    "df.where(\"timestamp > '2024-06-27T10:30:00-03:00'\").sort(\"ticker\",\"timestamp\").pandas_api()"
   ]
  },
  {
   "cell_type": "code",
   "execution_count": 34,
   "id": "926afaeb-80c9-4a93-9b23-10d2a365525a",
   "metadata": {},
   "outputs": [
    {
     "name": "stdout",
     "output_type": "stream",
     "text": [
      "CPU times: user 14.9 ms, sys: 620 µs, total: 15.5 ms\n",
      "Wall time: 78.1 ms\n"
     ]
    },
    {
     "data": {
      "text/html": [
       "<div>\n",
       "<style scoped>\n",
       "    .dataframe tbody tr th:only-of-type {\n",
       "        vertical-align: middle;\n",
       "    }\n",
       "\n",
       "    .dataframe tbody tr th {\n",
       "        vertical-align: top;\n",
       "    }\n",
       "\n",
       "    .dataframe thead th {\n",
       "        text-align: right;\n",
       "    }\n",
       "</style>\n",
       "<table border=\"1\" class=\"dataframe\">\n",
       "  <thead>\n",
       "    <tr style=\"text-align: right;\">\n",
       "      <th></th>\n",
       "      <th>ticker</th>\n",
       "      <th>dia</th>\n",
       "      <th>count</th>\n",
       "    </tr>\n",
       "  </thead>\n",
       "  <tbody>\n",
       "    <tr>\n",
       "      <th>0</th>\n",
       "      <td>AAPL</td>\n",
       "      <td>2024-06-13</td>\n",
       "      <td>390</td>\n",
       "    </tr>\n",
       "    <tr>\n",
       "      <th>1</th>\n",
       "      <td>AAPL</td>\n",
       "      <td>2024-06-14</td>\n",
       "      <td>388</td>\n",
       "    </tr>\n",
       "    <tr>\n",
       "      <th>2</th>\n",
       "      <td>AAPL</td>\n",
       "      <td>2024-06-17</td>\n",
       "      <td>390</td>\n",
       "    </tr>\n",
       "    <tr>\n",
       "      <th>3</th>\n",
       "      <td>AAPL</td>\n",
       "      <td>2024-06-18</td>\n",
       "      <td>387</td>\n",
       "    </tr>\n",
       "    <tr>\n",
       "      <th>4</th>\n",
       "      <td>AAPL</td>\n",
       "      <td>2024-06-20</td>\n",
       "      <td>386</td>\n",
       "    </tr>\n",
       "    <tr>\n",
       "      <th>5</th>\n",
       "      <td>AAPL</td>\n",
       "      <td>2024-06-21</td>\n",
       "      <td>76</td>\n",
       "    </tr>\n",
       "    <tr>\n",
       "      <th>6</th>\n",
       "      <td>AAPL</td>\n",
       "      <td>2024-06-24</td>\n",
       "      <td>374</td>\n",
       "    </tr>\n",
       "    <tr>\n",
       "      <th>7</th>\n",
       "      <td>AAPL</td>\n",
       "      <td>2024-06-25</td>\n",
       "      <td>381</td>\n",
       "    </tr>\n",
       "    <tr>\n",
       "      <th>8</th>\n",
       "      <td>AAPL</td>\n",
       "      <td>2024-06-26</td>\n",
       "      <td>388</td>\n",
       "    </tr>\n",
       "    <tr>\n",
       "      <th>9</th>\n",
       "      <td>AAPL</td>\n",
       "      <td>2024-06-27</td>\n",
       "      <td>904</td>\n",
       "    </tr>\n",
       "  </tbody>\n",
       "</table>\n",
       "<p>Showing only the first 10 rows × 3 columns</p>\n",
       "</div>"
      ],
      "text/plain": [
       "  ticker         dia  count\n",
       "0   AAPL  2024-06-13    390\n",
       "1   AAPL  2024-06-14    388\n",
       "2   AAPL  2024-06-17    390\n",
       "3   AAPL  2024-06-18    387\n",
       "4   AAPL  2024-06-20    386\n",
       "5   AAPL  2024-06-21     76\n",
       "6   AAPL  2024-06-24    374\n",
       "7   AAPL  2024-06-25    381\n",
       "8   AAPL  2024-06-26    388\n",
       "9   AAPL  2024-06-27    904\n",
       "\n",
       "[Showing only the first 10 rows x 3 columns]"
      ]
     },
     "execution_count": 34,
     "metadata": {},
     "output_type": "execute_result"
    }
   ],
   "source": [
    "%%time\n",
    "df.where(\"timestamp > '2024-06-01T00:00:00-03:00'\").withColumn(\"dia\", date_format(\"timestamp\", \"yyyy-MM-dd\")).groupBy(\"ticker\", \"dia\").count().sort(\"ticker\",\"dia\").pandas_api()"
   ]
  },
  {
   "cell_type": "markdown",
   "id": "e5b89d45-fb9e-4ea3-9736-2df388343937",
   "metadata": {},
   "source": [
    "# Otimizar Camada Bronze"
   ]
  },
  {
   "cell_type": "code",
   "execution_count": 39,
   "id": "f416fd2e-7deb-4591-843b-cd6a4f7aa20d",
   "metadata": {},
   "outputs": [],
   "source": [
    "deltaTable = DeltaTable.forPath(spark, stock_silver)\n",
    "df = deltaTable.optimize().executeCompaction()"
   ]
  },
  {
   "cell_type": "code",
   "execution_count": 40,
   "id": "15d26374-c531-4c51-99f6-cc869f6b4c9c",
   "metadata": {},
   "outputs": [
    {
     "name": "stdout",
     "output_type": "stream",
     "text": [
      "+--------------------+--------------------+\n",
      "|                path|             metrics|\n",
      "+--------------------+--------------------+\n",
      "|s3a://nemesys-dem...|{6, 36, {93853, 1...|\n",
      "+--------------------+--------------------+\n",
      "\n"
     ]
    }
   ],
   "source": [
    "df.show()"
   ]
  },
  {
   "cell_type": "code",
   "execution_count": 41,
   "id": "64c2c20b-646b-4b0e-a6ba-dd1875139da8",
   "metadata": {},
   "outputs": [
    {
     "data": {
      "text/plain": [
       "DataFrame[]"
      ]
     },
     "execution_count": 41,
     "metadata": {},
     "output_type": "execute_result"
    }
   ],
   "source": [
    "spark.conf.set(\"spark.databricks.delta.retentionDurationCheck.enabled\", \"False\")\n",
    "deltaTable.vacuum(0)"
   ]
  },
  {
   "cell_type": "code",
   "execution_count": null,
   "id": "964e240f-bba5-4eb9-819d-6c6cd731033c",
   "metadata": {},
   "outputs": [],
   "source": []
  }
 ],
 "metadata": {
  "kernelspec": {
   "display_name": "Python 3 (ipykernel)",
   "language": "python",
   "name": "python3"
  },
  "language_info": {
   "codemirror_mode": {
    "name": "ipython",
    "version": 3
   },
   "file_extension": ".py",
   "mimetype": "text/x-python",
   "name": "python",
   "nbconvert_exporter": "python",
   "pygments_lexer": "ipython3",
   "version": "3.11.8"
  }
 },
 "nbformat": 4,
 "nbformat_minor": 5
}
